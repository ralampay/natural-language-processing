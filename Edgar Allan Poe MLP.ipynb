{
 "cells": [
  {
   "cell_type": "code",
   "execution_count": 1,
   "id": "ba57012f",
   "metadata": {},
   "outputs": [
    {
     "name": "stderr",
     "output_type": "stream",
     "text": [
      "[nltk_data] Downloading package punkt to /home/ralampay/nltk_data...\n",
      "[nltk_data]   Package punkt is already up-to-date!\n",
      "[nltk_data] Downloading package wordnet to /home/ralampay/nltk_data...\n",
      "[nltk_data]   Package wordnet is already up-to-date!\n"
     ]
    },
    {
     "data": {
      "text/plain": [
       "True"
      ]
     },
     "execution_count": 1,
     "metadata": {},
     "output_type": "execute_result"
    }
   ],
   "source": [
    "# https://mypoeticside.com/poets/edgar-allan-poe-poems\n",
    "import re\n",
    "import numpy as np\n",
    "import torch\n",
    "import torch.nn as nn\n",
    "import torch.optim as optim\n",
    "import nltk\n",
    "from tqdm import tqdm\n",
    "import torch.optim as optim\n",
    "from nltk.tokenize import word_tokenize\n",
    "from nltk.stem import PorterStemmer, WordNetLemmatizer\n",
    "from nltk.corpus import stopwords\n",
    "nltk.download('punkt')\n",
    "nltk.download('wordnet')"
   ]
  },
  {
   "cell_type": "code",
   "execution_count": 2,
   "id": "994b08d5",
   "metadata": {},
   "outputs": [
    {
     "data": {
      "text/plain": [
       "\"In visions of the dark night\\nI have dreamed of joy departed-\\nBut a waking dream of life and light\\nHath left me broken-hearted.\\n\\nAh! what is not a dream by day\\nTo him whose eyes are cast\\nOn things around him with a ray\\nTurned back upon the past?\\n\\nThat holy dream- that holy dream,\\nWhile all the world were chiding,\\nHath cheered me as a lovely beam\\nA lonely spirit guiding.\\n\\nWhat though that light, thro' storm and night,\\nSo trembled from afar-\\nWhat could there be more purely bright\\nIn Truth's day-star?\\n\\nFrom childhood's hour I have not been\\nAs others were; I have not seen\\nAs others saw; I could not bring\\nMy passions from a common spring.\\nFrom the same source I have not taken\\nMy sorrow; I could not awaken\\nMy heart to joy at the same tone;\\nAnd all I loved, I loved alone.\\nThen- in my childhood, in the dawn\\nOf a most stormy life- was drawn\\nFrom every depth of good and ill\\nThe mystery which binds me still:\\nFrom the torrent, or the fountain,\\nFrom the red cliff of the mountain,\\nFrom the sun that round me rolled\\nIn its autumn tint of gold,\\nFrom the lightning in the sky\\nAs it passed me flying by,\\nFrom the thunder and the storm,\\nAnd the cloud that took the form\\n(When the rest of Heaven was blue)\\nOf a demon in my view.\\n\\nOh! that my young life were a lasting dream!\\nMy spirit not awakening, till the beam\\nOf an Eternity should bring the morrow.\\nYes! tho' that long dream were of hopeless sorrow,\\n'Twere better than the cold reality\\nOf waking life, to him whose heart must be,\\nAnd hath been still, upon the lovely earth,\\nA chaos of deep passion, from his birth.\\nBut should it be- that dream eternally\\nContinuing- as dreams have been to me\\nIn my young boyhood- should it thus be given,\\n'Twere folly still to hope for higher Heaven.\\nFor I have revell'd, when the sun was bright\\nI' the summer sky, in dreams of living light\\nAnd loveliness,- have left my very heart\\nIn climes of my imagining, apart\\nFrom mine own home, with beings that have been\\nOf mine own thought- what more could I have seen?\\n'Twas once- and only once- and the wild hour\\nFrom my remembrance shall not pass- some power\\nOr spell had bound me- 'twas the chilly wind\\nCame o'er me in the night, and left behind\\nIts image on my spirit- or the moon\\nShone on my slumbers in her lofty noon\\nToo coldly- or the stars- howe'er it was\\nThat dream was as that night-wind- let it pass.\\n\\nI have been happy, tho' in a dream.\\nI have been happy- and I love the theme:\\nDreams! in their vivid coloring of life,\\nAs in that fleeting, shadowy, misty strife\\nOf semblance with reality, which brings\\nTo the delirious eye, more lovely things\\nOf Paradise and Love- and all our own!\\nThan young Hope in his sunniest hour hath known.\\n\""
      ]
     },
     "execution_count": 2,
     "metadata": {},
     "output_type": "execute_result"
    }
   ],
   "source": [
    "filename = \"edgar-allan-poe.txt\"\n",
    "f = open(filename, 'r')\n",
    "\n",
    "raw_text = f.read()\n",
    "\n",
    "raw_text"
   ]
  },
  {
   "cell_type": "code",
   "execution_count": 3,
   "id": "4b407226",
   "metadata": {},
   "outputs": [
    {
     "data": {
      "text/plain": [
       "\"In visions of the dark night\\nI have dreamed of joy departed-\\nBut a waking dream of life and light\\nHath left me broken-hearted.\\n\\nAh! what is not a dream by day\\nTo him whose eyes are cast\\nOn things around him with a ray\\nTurned back upon the past?\\n\\nThat holy dream- that holy dream,\\nWhile all the world were chiding,\\nHath cheered me as a lovely beam\\nA lonely spirit guiding.\\n\\nWhat though that light, thro' storm and night,\\nSo trembled from afar-\\nWhat could there be more purely bright\\nIn Truth's day-star?\\n\\nFrom childhood's hour I have not been\\nAs others were; I have not seen\\nAs others saw; I could not bring\\nMy passions from a common spring.\\nFrom the same source I have not taken\\nMy sorrow; I could not awaken\\nMy heart to joy at the same tone;\\nAnd all I loved, I loved alone.\\nThen- in my childhood, in the dawn\\nOf a most stormy life- was drawn\\nFrom every depth of good and ill\\nThe mystery which binds me still:\\nFrom the torrent, or the fountain,\\nFrom the red cliff of the mountain,\\nFrom the sun that round me rolled\\nIn its autumn tint of gold,\\nFrom the lightning in the sky\\nAs it passed me flying by,\\nFrom the thunder and the storm,\\nAnd the cloud that took the form\\n(When the rest of Heaven was blue)\\nOf a demon in my view.\\n\\nOh! that my young life were a lasting dream!\\nMy spirit not awakening, till the beam\\nOf an Eternity should bring the morrow.\\nYes! tho' that long dream were of hopeless sorrow,\\n'Twere better than the cold reality\\nOf waking life, to him whose heart must be,\\nAnd hath been still, upon the lovely earth,\\nA chaos of deep passion, from his birth.\\nBut should it be- that dream eternally\\nContinuing- as dreams have been to me\\nIn my young boyhood- should it thus be given,\\n'Twere folly still to hope for higher Heaven.\\nFor I have revell'd, when the sun was bright\\nI' the summer sky, in dreams of living light\\nAnd loveliness,- have left my very heart\\nIn climes of my imagining, apart\\nFrom mine own home, with beings that have been\\nOf mine own thought- what more could I have seen?\\n'Twas once- and only once- and the wild hour\\nFrom my remembrance shall not pass- some power\\nOr spell had bound me- 'twas the chilly wind\\nCame o'er me in the night, and left behind\\nIts image on my spirit- or the moon\\nShone on my slumbers in her lofty noon\\nToo coldly- or the stars- howe'er it was\\nThat dream was as that night-wind- let it pass.\\n\\nI have been happy, tho' in a dream.\\nI have been happy- and I love the theme:\\nDreams! in their vivid coloring of life,\\nAs in that fleeting, shadowy, misty strife\\nOf semblance with reality, which brings\\nTo the delirious eye, more lovely things\\nOf Paradise and Love- and all our own!\\nThan young Hope in his sunniest hour hath known.\\n\""
      ]
     },
     "execution_count": 3,
     "metadata": {},
     "output_type": "execute_result"
    }
   ],
   "source": [
    "processed_text = re.sub(r'[^\\x00-\\x7f]', r'', raw_text)\n",
    "\n",
    "processed_text"
   ]
  },
  {
   "cell_type": "code",
   "execution_count": 4,
   "id": "e2784dab",
   "metadata": {},
   "outputs": [
    {
     "data": {
      "text/plain": [
       "585"
      ]
     },
     "execution_count": 4,
     "metadata": {},
     "output_type": "execute_result"
    }
   ],
   "source": [
    "word_tokens = word_tokenize(processed_text)\n",
    "\n",
    "len(word_tokens)"
   ]
  },
  {
   "cell_type": "code",
   "execution_count": 5,
   "id": "3b67018f",
   "metadata": {},
   "outputs": [
    {
     "data": {
      "text/plain": [
       "272"
      ]
     },
     "execution_count": 5,
     "metadata": {},
     "output_type": "execute_result"
    }
   ],
   "source": [
    "unique_words = sorted(list(set(word_tokens)))\n",
    "\n",
    "len(unique_words)"
   ]
  },
  {
   "cell_type": "code",
   "execution_count": 6,
   "id": "1bb5ecde",
   "metadata": {},
   "outputs": [
    {
     "data": {
      "text/plain": [
       "['!',\n",
       " \"'\",\n",
       " \"'T\",\n",
       " \"'Twere\",\n",
       " \"'d\",\n",
       " \"'s\",\n",
       " \"'t\",\n",
       " '(',\n",
       " ')',\n",
       " ',',\n",
       " '-',\n",
       " '.',\n",
       " ':',\n",
       " ';',\n",
       " '?',\n",
       " 'A',\n",
       " 'Ah',\n",
       " 'And',\n",
       " 'As',\n",
       " 'But',\n",
       " 'Came',\n",
       " 'Continuing-',\n",
       " 'Dreams',\n",
       " 'Eternity',\n",
       " 'For',\n",
       " 'From',\n",
       " 'Hath',\n",
       " 'Heaven',\n",
       " 'Hope',\n",
       " 'I',\n",
       " 'In',\n",
       " 'Its',\n",
       " 'Love-',\n",
       " 'My',\n",
       " 'Of',\n",
       " 'Oh',\n",
       " 'On',\n",
       " 'Or',\n",
       " 'Paradise',\n",
       " 'Shone',\n",
       " 'So',\n",
       " 'Than',\n",
       " 'That',\n",
       " 'The',\n",
       " 'Then-',\n",
       " 'To',\n",
       " 'Too',\n",
       " 'Truth',\n",
       " 'Turned',\n",
       " 'What',\n",
       " 'When',\n",
       " 'While',\n",
       " 'Yes',\n",
       " 'a',\n",
       " 'afar-',\n",
       " 'all',\n",
       " 'alone',\n",
       " 'an',\n",
       " 'and',\n",
       " 'apart',\n",
       " 'are',\n",
       " 'around',\n",
       " 'as',\n",
       " 'at',\n",
       " 'autumn',\n",
       " 'awaken',\n",
       " 'awakening',\n",
       " 'back',\n",
       " 'be',\n",
       " 'be-',\n",
       " 'beam',\n",
       " 'been',\n",
       " 'behind',\n",
       " 'beings',\n",
       " 'better',\n",
       " 'binds',\n",
       " 'birth',\n",
       " 'blue',\n",
       " 'bound',\n",
       " 'boyhood-',\n",
       " 'bright',\n",
       " 'bring',\n",
       " 'brings',\n",
       " 'broken-hearted',\n",
       " 'by',\n",
       " 'cast',\n",
       " 'chaos',\n",
       " 'cheered',\n",
       " 'chiding',\n",
       " 'childhood',\n",
       " 'chilly',\n",
       " 'cliff',\n",
       " 'climes',\n",
       " 'cloud',\n",
       " 'cold',\n",
       " 'coldly-',\n",
       " 'coloring',\n",
       " 'common',\n",
       " 'could',\n",
       " 'dark',\n",
       " 'dawn',\n",
       " 'day',\n",
       " 'day-star',\n",
       " 'deep',\n",
       " 'delirious',\n",
       " 'demon',\n",
       " 'departed-',\n",
       " 'depth',\n",
       " 'drawn',\n",
       " 'dream',\n",
       " 'dream-',\n",
       " 'dreamed',\n",
       " 'dreams',\n",
       " 'earth',\n",
       " 'eternally',\n",
       " 'every',\n",
       " 'eye',\n",
       " 'eyes',\n",
       " 'fleeting',\n",
       " 'flying',\n",
       " 'folly',\n",
       " 'for',\n",
       " 'form',\n",
       " 'fountain',\n",
       " 'from',\n",
       " 'given',\n",
       " 'gold',\n",
       " 'good',\n",
       " 'guiding',\n",
       " 'had',\n",
       " 'happy',\n",
       " 'happy-',\n",
       " 'hath',\n",
       " 'have',\n",
       " 'heart',\n",
       " 'her',\n",
       " 'higher',\n",
       " 'him',\n",
       " 'his',\n",
       " 'holy',\n",
       " 'home',\n",
       " 'hope',\n",
       " 'hopeless',\n",
       " 'hour',\n",
       " \"howe'er\",\n",
       " 'ill',\n",
       " 'image',\n",
       " 'imagining',\n",
       " 'in',\n",
       " 'is',\n",
       " 'it',\n",
       " 'its',\n",
       " 'joy',\n",
       " 'known',\n",
       " 'lasting',\n",
       " 'left',\n",
       " 'let',\n",
       " 'life',\n",
       " 'life-',\n",
       " 'light',\n",
       " 'lightning',\n",
       " 'living',\n",
       " 'lofty',\n",
       " 'lonely',\n",
       " 'long',\n",
       " 'love',\n",
       " 'loved',\n",
       " 'loveliness',\n",
       " 'lovely',\n",
       " 'me',\n",
       " 'me-',\n",
       " 'mine',\n",
       " 'misty',\n",
       " 'moon',\n",
       " 'more',\n",
       " 'morrow',\n",
       " 'most',\n",
       " 'mountain',\n",
       " 'must',\n",
       " 'my',\n",
       " 'mystery',\n",
       " 'night',\n",
       " 'night-wind-',\n",
       " 'noon',\n",
       " 'not',\n",
       " \"o'er\",\n",
       " 'of',\n",
       " 'on',\n",
       " 'once-',\n",
       " 'only',\n",
       " 'or',\n",
       " 'others',\n",
       " 'our',\n",
       " 'own',\n",
       " 'pass',\n",
       " 'pass-',\n",
       " 'passed',\n",
       " 'passion',\n",
       " 'passions',\n",
       " 'past',\n",
       " 'power',\n",
       " 'purely',\n",
       " 'ray',\n",
       " 'reality',\n",
       " 'red',\n",
       " 'remembrance',\n",
       " 'rest',\n",
       " 'revell',\n",
       " 'rolled',\n",
       " 'round',\n",
       " 'same',\n",
       " 'saw',\n",
       " 'seen',\n",
       " 'semblance',\n",
       " 'shadowy',\n",
       " 'shall',\n",
       " 'should',\n",
       " 'sky',\n",
       " 'slumbers',\n",
       " 'some',\n",
       " 'sorrow',\n",
       " 'source',\n",
       " 'spell',\n",
       " 'spirit',\n",
       " 'spirit-',\n",
       " 'spring',\n",
       " 'stars-',\n",
       " 'still',\n",
       " 'storm',\n",
       " 'stormy',\n",
       " 'strife',\n",
       " 'summer',\n",
       " 'sun',\n",
       " 'sunniest',\n",
       " 'taken',\n",
       " 'than',\n",
       " 'that',\n",
       " 'the',\n",
       " 'their',\n",
       " 'theme',\n",
       " 'there',\n",
       " 'things',\n",
       " 'tho',\n",
       " 'though',\n",
       " 'thought-',\n",
       " 'thro',\n",
       " 'thunder',\n",
       " 'thus',\n",
       " 'till',\n",
       " 'tint',\n",
       " 'to',\n",
       " 'tone',\n",
       " 'took',\n",
       " 'torrent',\n",
       " 'trembled',\n",
       " 'upon',\n",
       " 'very',\n",
       " 'view',\n",
       " 'visions',\n",
       " 'vivid',\n",
       " 'waking',\n",
       " 'was',\n",
       " 'were',\n",
       " 'what',\n",
       " 'when',\n",
       " 'which',\n",
       " 'whose',\n",
       " 'wild',\n",
       " 'wind',\n",
       " 'with',\n",
       " 'world',\n",
       " 'young']"
      ]
     },
     "execution_count": 6,
     "metadata": {},
     "output_type": "execute_result"
    }
   ],
   "source": [
    "unique_words"
   ]
  },
  {
   "cell_type": "code",
   "execution_count": 7,
   "id": "9939067c",
   "metadata": {},
   "outputs": [
    {
     "data": {
      "text/plain": [
       "{0: '!',\n",
       " 1: \"'\",\n",
       " 2: \"'T\",\n",
       " 3: \"'Twere\",\n",
       " 4: \"'d\",\n",
       " 5: \"'s\",\n",
       " 6: \"'t\",\n",
       " 7: '(',\n",
       " 8: ')',\n",
       " 9: ',',\n",
       " 10: '-',\n",
       " 11: '.',\n",
       " 12: ':',\n",
       " 13: ';',\n",
       " 14: '?',\n",
       " 15: 'A',\n",
       " 16: 'Ah',\n",
       " 17: 'And',\n",
       " 18: 'As',\n",
       " 19: 'But',\n",
       " 20: 'Came',\n",
       " 21: 'Continuing-',\n",
       " 22: 'Dreams',\n",
       " 23: 'Eternity',\n",
       " 24: 'For',\n",
       " 25: 'From',\n",
       " 26: 'Hath',\n",
       " 27: 'Heaven',\n",
       " 28: 'Hope',\n",
       " 29: 'I',\n",
       " 30: 'In',\n",
       " 31: 'Its',\n",
       " 32: 'Love-',\n",
       " 33: 'My',\n",
       " 34: 'Of',\n",
       " 35: 'Oh',\n",
       " 36: 'On',\n",
       " 37: 'Or',\n",
       " 38: 'Paradise',\n",
       " 39: 'Shone',\n",
       " 40: 'So',\n",
       " 41: 'Than',\n",
       " 42: 'That',\n",
       " 43: 'The',\n",
       " 44: 'Then-',\n",
       " 45: 'To',\n",
       " 46: 'Too',\n",
       " 47: 'Truth',\n",
       " 48: 'Turned',\n",
       " 49: 'What',\n",
       " 50: 'When',\n",
       " 51: 'While',\n",
       " 52: 'Yes',\n",
       " 53: 'a',\n",
       " 54: 'afar-',\n",
       " 55: 'all',\n",
       " 56: 'alone',\n",
       " 57: 'an',\n",
       " 58: 'and',\n",
       " 59: 'apart',\n",
       " 60: 'are',\n",
       " 61: 'around',\n",
       " 62: 'as',\n",
       " 63: 'at',\n",
       " 64: 'autumn',\n",
       " 65: 'awaken',\n",
       " 66: 'awakening',\n",
       " 67: 'back',\n",
       " 68: 'be',\n",
       " 69: 'be-',\n",
       " 70: 'beam',\n",
       " 71: 'been',\n",
       " 72: 'behind',\n",
       " 73: 'beings',\n",
       " 74: 'better',\n",
       " 75: 'binds',\n",
       " 76: 'birth',\n",
       " 77: 'blue',\n",
       " 78: 'bound',\n",
       " 79: 'boyhood-',\n",
       " 80: 'bright',\n",
       " 81: 'bring',\n",
       " 82: 'brings',\n",
       " 83: 'broken-hearted',\n",
       " 84: 'by',\n",
       " 85: 'cast',\n",
       " 86: 'chaos',\n",
       " 87: 'cheered',\n",
       " 88: 'chiding',\n",
       " 89: 'childhood',\n",
       " 90: 'chilly',\n",
       " 91: 'cliff',\n",
       " 92: 'climes',\n",
       " 93: 'cloud',\n",
       " 94: 'cold',\n",
       " 95: 'coldly-',\n",
       " 96: 'coloring',\n",
       " 97: 'common',\n",
       " 98: 'could',\n",
       " 99: 'dark',\n",
       " 100: 'dawn',\n",
       " 101: 'day',\n",
       " 102: 'day-star',\n",
       " 103: 'deep',\n",
       " 104: 'delirious',\n",
       " 105: 'demon',\n",
       " 106: 'departed-',\n",
       " 107: 'depth',\n",
       " 108: 'drawn',\n",
       " 109: 'dream',\n",
       " 110: 'dream-',\n",
       " 111: 'dreamed',\n",
       " 112: 'dreams',\n",
       " 113: 'earth',\n",
       " 114: 'eternally',\n",
       " 115: 'every',\n",
       " 116: 'eye',\n",
       " 117: 'eyes',\n",
       " 118: 'fleeting',\n",
       " 119: 'flying',\n",
       " 120: 'folly',\n",
       " 121: 'for',\n",
       " 122: 'form',\n",
       " 123: 'fountain',\n",
       " 124: 'from',\n",
       " 125: 'given',\n",
       " 126: 'gold',\n",
       " 127: 'good',\n",
       " 128: 'guiding',\n",
       " 129: 'had',\n",
       " 130: 'happy',\n",
       " 131: 'happy-',\n",
       " 132: 'hath',\n",
       " 133: 'have',\n",
       " 134: 'heart',\n",
       " 135: 'her',\n",
       " 136: 'higher',\n",
       " 137: 'him',\n",
       " 138: 'his',\n",
       " 139: 'holy',\n",
       " 140: 'home',\n",
       " 141: 'hope',\n",
       " 142: 'hopeless',\n",
       " 143: 'hour',\n",
       " 144: \"howe'er\",\n",
       " 145: 'ill',\n",
       " 146: 'image',\n",
       " 147: 'imagining',\n",
       " 148: 'in',\n",
       " 149: 'is',\n",
       " 150: 'it',\n",
       " 151: 'its',\n",
       " 152: 'joy',\n",
       " 153: 'known',\n",
       " 154: 'lasting',\n",
       " 155: 'left',\n",
       " 156: 'let',\n",
       " 157: 'life',\n",
       " 158: 'life-',\n",
       " 159: 'light',\n",
       " 160: 'lightning',\n",
       " 161: 'living',\n",
       " 162: 'lofty',\n",
       " 163: 'lonely',\n",
       " 164: 'long',\n",
       " 165: 'love',\n",
       " 166: 'loved',\n",
       " 167: 'loveliness',\n",
       " 168: 'lovely',\n",
       " 169: 'me',\n",
       " 170: 'me-',\n",
       " 171: 'mine',\n",
       " 172: 'misty',\n",
       " 173: 'moon',\n",
       " 174: 'more',\n",
       " 175: 'morrow',\n",
       " 176: 'most',\n",
       " 177: 'mountain',\n",
       " 178: 'must',\n",
       " 179: 'my',\n",
       " 180: 'mystery',\n",
       " 181: 'night',\n",
       " 182: 'night-wind-',\n",
       " 183: 'noon',\n",
       " 184: 'not',\n",
       " 185: \"o'er\",\n",
       " 186: 'of',\n",
       " 187: 'on',\n",
       " 188: 'once-',\n",
       " 189: 'only',\n",
       " 190: 'or',\n",
       " 191: 'others',\n",
       " 192: 'our',\n",
       " 193: 'own',\n",
       " 194: 'pass',\n",
       " 195: 'pass-',\n",
       " 196: 'passed',\n",
       " 197: 'passion',\n",
       " 198: 'passions',\n",
       " 199: 'past',\n",
       " 200: 'power',\n",
       " 201: 'purely',\n",
       " 202: 'ray',\n",
       " 203: 'reality',\n",
       " 204: 'red',\n",
       " 205: 'remembrance',\n",
       " 206: 'rest',\n",
       " 207: 'revell',\n",
       " 208: 'rolled',\n",
       " 209: 'round',\n",
       " 210: 'same',\n",
       " 211: 'saw',\n",
       " 212: 'seen',\n",
       " 213: 'semblance',\n",
       " 214: 'shadowy',\n",
       " 215: 'shall',\n",
       " 216: 'should',\n",
       " 217: 'sky',\n",
       " 218: 'slumbers',\n",
       " 219: 'some',\n",
       " 220: 'sorrow',\n",
       " 221: 'source',\n",
       " 222: 'spell',\n",
       " 223: 'spirit',\n",
       " 224: 'spirit-',\n",
       " 225: 'spring',\n",
       " 226: 'stars-',\n",
       " 227: 'still',\n",
       " 228: 'storm',\n",
       " 229: 'stormy',\n",
       " 230: 'strife',\n",
       " 231: 'summer',\n",
       " 232: 'sun',\n",
       " 233: 'sunniest',\n",
       " 234: 'taken',\n",
       " 235: 'than',\n",
       " 236: 'that',\n",
       " 237: 'the',\n",
       " 238: 'their',\n",
       " 239: 'theme',\n",
       " 240: 'there',\n",
       " 241: 'things',\n",
       " 242: 'tho',\n",
       " 243: 'though',\n",
       " 244: 'thought-',\n",
       " 245: 'thro',\n",
       " 246: 'thunder',\n",
       " 247: 'thus',\n",
       " 248: 'till',\n",
       " 249: 'tint',\n",
       " 250: 'to',\n",
       " 251: 'tone',\n",
       " 252: 'took',\n",
       " 253: 'torrent',\n",
       " 254: 'trembled',\n",
       " 255: 'upon',\n",
       " 256: 'very',\n",
       " 257: 'view',\n",
       " 258: 'visions',\n",
       " 259: 'vivid',\n",
       " 260: 'waking',\n",
       " 261: 'was',\n",
       " 262: 'were',\n",
       " 263: 'what',\n",
       " 264: 'when',\n",
       " 265: 'which',\n",
       " 266: 'whose',\n",
       " 267: 'wild',\n",
       " 268: 'wind',\n",
       " 269: 'with',\n",
       " 270: 'world',\n",
       " 271: 'young'}"
      ]
     },
     "execution_count": 7,
     "metadata": {},
     "output_type": "execute_result"
    }
   ],
   "source": [
    "word_vocabulary = unique_words\n",
    "\n",
    "indices_words = dict((index, word) for index, word in enumerate(word_vocabulary))\n",
    "\n",
    "indices_words"
   ]
  },
  {
   "cell_type": "code",
   "execution_count": 8,
   "id": "acb045bf",
   "metadata": {},
   "outputs": [
    {
     "data": {
      "text/plain": [
       "{'!': 0,\n",
       " \"'\": 1,\n",
       " \"'T\": 2,\n",
       " \"'Twere\": 3,\n",
       " \"'d\": 4,\n",
       " \"'s\": 5,\n",
       " \"'t\": 6,\n",
       " '(': 7,\n",
       " ')': 8,\n",
       " ',': 9,\n",
       " '-': 10,\n",
       " '.': 11,\n",
       " ':': 12,\n",
       " ';': 13,\n",
       " '?': 14,\n",
       " 'A': 15,\n",
       " 'Ah': 16,\n",
       " 'And': 17,\n",
       " 'As': 18,\n",
       " 'But': 19,\n",
       " 'Came': 20,\n",
       " 'Continuing-': 21,\n",
       " 'Dreams': 22,\n",
       " 'Eternity': 23,\n",
       " 'For': 24,\n",
       " 'From': 25,\n",
       " 'Hath': 26,\n",
       " 'Heaven': 27,\n",
       " 'Hope': 28,\n",
       " 'I': 29,\n",
       " 'In': 30,\n",
       " 'Its': 31,\n",
       " 'Love-': 32,\n",
       " 'My': 33,\n",
       " 'Of': 34,\n",
       " 'Oh': 35,\n",
       " 'On': 36,\n",
       " 'Or': 37,\n",
       " 'Paradise': 38,\n",
       " 'Shone': 39,\n",
       " 'So': 40,\n",
       " 'Than': 41,\n",
       " 'That': 42,\n",
       " 'The': 43,\n",
       " 'Then-': 44,\n",
       " 'To': 45,\n",
       " 'Too': 46,\n",
       " 'Truth': 47,\n",
       " 'Turned': 48,\n",
       " 'What': 49,\n",
       " 'When': 50,\n",
       " 'While': 51,\n",
       " 'Yes': 52,\n",
       " 'a': 53,\n",
       " 'afar-': 54,\n",
       " 'all': 55,\n",
       " 'alone': 56,\n",
       " 'an': 57,\n",
       " 'and': 58,\n",
       " 'apart': 59,\n",
       " 'are': 60,\n",
       " 'around': 61,\n",
       " 'as': 62,\n",
       " 'at': 63,\n",
       " 'autumn': 64,\n",
       " 'awaken': 65,\n",
       " 'awakening': 66,\n",
       " 'back': 67,\n",
       " 'be': 68,\n",
       " 'be-': 69,\n",
       " 'beam': 70,\n",
       " 'been': 71,\n",
       " 'behind': 72,\n",
       " 'beings': 73,\n",
       " 'better': 74,\n",
       " 'binds': 75,\n",
       " 'birth': 76,\n",
       " 'blue': 77,\n",
       " 'bound': 78,\n",
       " 'boyhood-': 79,\n",
       " 'bright': 80,\n",
       " 'bring': 81,\n",
       " 'brings': 82,\n",
       " 'broken-hearted': 83,\n",
       " 'by': 84,\n",
       " 'cast': 85,\n",
       " 'chaos': 86,\n",
       " 'cheered': 87,\n",
       " 'chiding': 88,\n",
       " 'childhood': 89,\n",
       " 'chilly': 90,\n",
       " 'cliff': 91,\n",
       " 'climes': 92,\n",
       " 'cloud': 93,\n",
       " 'cold': 94,\n",
       " 'coldly-': 95,\n",
       " 'coloring': 96,\n",
       " 'common': 97,\n",
       " 'could': 98,\n",
       " 'dark': 99,\n",
       " 'dawn': 100,\n",
       " 'day': 101,\n",
       " 'day-star': 102,\n",
       " 'deep': 103,\n",
       " 'delirious': 104,\n",
       " 'demon': 105,\n",
       " 'departed-': 106,\n",
       " 'depth': 107,\n",
       " 'drawn': 108,\n",
       " 'dream': 109,\n",
       " 'dream-': 110,\n",
       " 'dreamed': 111,\n",
       " 'dreams': 112,\n",
       " 'earth': 113,\n",
       " 'eternally': 114,\n",
       " 'every': 115,\n",
       " 'eye': 116,\n",
       " 'eyes': 117,\n",
       " 'fleeting': 118,\n",
       " 'flying': 119,\n",
       " 'folly': 120,\n",
       " 'for': 121,\n",
       " 'form': 122,\n",
       " 'fountain': 123,\n",
       " 'from': 124,\n",
       " 'given': 125,\n",
       " 'gold': 126,\n",
       " 'good': 127,\n",
       " 'guiding': 128,\n",
       " 'had': 129,\n",
       " 'happy': 130,\n",
       " 'happy-': 131,\n",
       " 'hath': 132,\n",
       " 'have': 133,\n",
       " 'heart': 134,\n",
       " 'her': 135,\n",
       " 'higher': 136,\n",
       " 'him': 137,\n",
       " 'his': 138,\n",
       " 'holy': 139,\n",
       " 'home': 140,\n",
       " 'hope': 141,\n",
       " 'hopeless': 142,\n",
       " 'hour': 143,\n",
       " \"howe'er\": 144,\n",
       " 'ill': 145,\n",
       " 'image': 146,\n",
       " 'imagining': 147,\n",
       " 'in': 148,\n",
       " 'is': 149,\n",
       " 'it': 150,\n",
       " 'its': 151,\n",
       " 'joy': 152,\n",
       " 'known': 153,\n",
       " 'lasting': 154,\n",
       " 'left': 155,\n",
       " 'let': 156,\n",
       " 'life': 157,\n",
       " 'life-': 158,\n",
       " 'light': 159,\n",
       " 'lightning': 160,\n",
       " 'living': 161,\n",
       " 'lofty': 162,\n",
       " 'lonely': 163,\n",
       " 'long': 164,\n",
       " 'love': 165,\n",
       " 'loved': 166,\n",
       " 'loveliness': 167,\n",
       " 'lovely': 168,\n",
       " 'me': 169,\n",
       " 'me-': 170,\n",
       " 'mine': 171,\n",
       " 'misty': 172,\n",
       " 'moon': 173,\n",
       " 'more': 174,\n",
       " 'morrow': 175,\n",
       " 'most': 176,\n",
       " 'mountain': 177,\n",
       " 'must': 178,\n",
       " 'my': 179,\n",
       " 'mystery': 180,\n",
       " 'night': 181,\n",
       " 'night-wind-': 182,\n",
       " 'noon': 183,\n",
       " 'not': 184,\n",
       " \"o'er\": 185,\n",
       " 'of': 186,\n",
       " 'on': 187,\n",
       " 'once-': 188,\n",
       " 'only': 189,\n",
       " 'or': 190,\n",
       " 'others': 191,\n",
       " 'our': 192,\n",
       " 'own': 193,\n",
       " 'pass': 194,\n",
       " 'pass-': 195,\n",
       " 'passed': 196,\n",
       " 'passion': 197,\n",
       " 'passions': 198,\n",
       " 'past': 199,\n",
       " 'power': 200,\n",
       " 'purely': 201,\n",
       " 'ray': 202,\n",
       " 'reality': 203,\n",
       " 'red': 204,\n",
       " 'remembrance': 205,\n",
       " 'rest': 206,\n",
       " 'revell': 207,\n",
       " 'rolled': 208,\n",
       " 'round': 209,\n",
       " 'same': 210,\n",
       " 'saw': 211,\n",
       " 'seen': 212,\n",
       " 'semblance': 213,\n",
       " 'shadowy': 214,\n",
       " 'shall': 215,\n",
       " 'should': 216,\n",
       " 'sky': 217,\n",
       " 'slumbers': 218,\n",
       " 'some': 219,\n",
       " 'sorrow': 220,\n",
       " 'source': 221,\n",
       " 'spell': 222,\n",
       " 'spirit': 223,\n",
       " 'spirit-': 224,\n",
       " 'spring': 225,\n",
       " 'stars-': 226,\n",
       " 'still': 227,\n",
       " 'storm': 228,\n",
       " 'stormy': 229,\n",
       " 'strife': 230,\n",
       " 'summer': 231,\n",
       " 'sun': 232,\n",
       " 'sunniest': 233,\n",
       " 'taken': 234,\n",
       " 'than': 235,\n",
       " 'that': 236,\n",
       " 'the': 237,\n",
       " 'their': 238,\n",
       " 'theme': 239,\n",
       " 'there': 240,\n",
       " 'things': 241,\n",
       " 'tho': 242,\n",
       " 'though': 243,\n",
       " 'thought-': 244,\n",
       " 'thro': 245,\n",
       " 'thunder': 246,\n",
       " 'thus': 247,\n",
       " 'till': 248,\n",
       " 'tint': 249,\n",
       " 'to': 250,\n",
       " 'tone': 251,\n",
       " 'took': 252,\n",
       " 'torrent': 253,\n",
       " 'trembled': 254,\n",
       " 'upon': 255,\n",
       " 'very': 256,\n",
       " 'view': 257,\n",
       " 'visions': 258,\n",
       " 'vivid': 259,\n",
       " 'waking': 260,\n",
       " 'was': 261,\n",
       " 'were': 262,\n",
       " 'what': 263,\n",
       " 'when': 264,\n",
       " 'which': 265,\n",
       " 'whose': 266,\n",
       " 'wild': 267,\n",
       " 'wind': 268,\n",
       " 'with': 269,\n",
       " 'world': 270,\n",
       " 'young': 271}"
      ]
     },
     "execution_count": 8,
     "metadata": {},
     "output_type": "execute_result"
    }
   ],
   "source": [
    "word_indices = dict((word, index) for index, word in enumerate(word_vocabulary))\n",
    "\n",
    "word_indices"
   ]
  },
  {
   "cell_type": "code",
   "execution_count": 9,
   "id": "c5e45b59",
   "metadata": {},
   "outputs": [],
   "source": [
    "block_size = 3\n",
    "step = 1\n",
    "\n",
    "x = []\n",
    "y = []\n",
    "\n",
    "for i in range(0, len(word_tokens) - block_size, step):\n",
    "    x.append(word_tokens[i: i+block_size])\n",
    "    y.append(word_tokens[i + block_size])"
   ]
  },
  {
   "cell_type": "code",
   "execution_count": 10,
   "id": "9d3914fb",
   "metadata": {},
   "outputs": [
    {
     "data": {
      "text/plain": [
       "[['In', 'visions', 'of'],\n",
       " ['visions', 'of', 'the'],\n",
       " ['of', 'the', 'dark'],\n",
       " ['the', 'dark', 'night'],\n",
       " ['dark', 'night', 'I'],\n",
       " ['night', 'I', 'have'],\n",
       " ['I', 'have', 'dreamed'],\n",
       " ['have', 'dreamed', 'of'],\n",
       " ['dreamed', 'of', 'joy'],\n",
       " ['of', 'joy', 'departed-'],\n",
       " ['joy', 'departed-', 'But'],\n",
       " ['departed-', 'But', 'a'],\n",
       " ['But', 'a', 'waking'],\n",
       " ['a', 'waking', 'dream'],\n",
       " ['waking', 'dream', 'of'],\n",
       " ['dream', 'of', 'life'],\n",
       " ['of', 'life', 'and'],\n",
       " ['life', 'and', 'light'],\n",
       " ['and', 'light', 'Hath'],\n",
       " ['light', 'Hath', 'left'],\n",
       " ['Hath', 'left', 'me'],\n",
       " ['left', 'me', 'broken-hearted'],\n",
       " ['me', 'broken-hearted', '.'],\n",
       " ['broken-hearted', '.', 'Ah'],\n",
       " ['.', 'Ah', '!'],\n",
       " ['Ah', '!', 'what'],\n",
       " ['!', 'what', 'is'],\n",
       " ['what', 'is', 'not'],\n",
       " ['is', 'not', 'a'],\n",
       " ['not', 'a', 'dream'],\n",
       " ['a', 'dream', 'by'],\n",
       " ['dream', 'by', 'day'],\n",
       " ['by', 'day', 'To'],\n",
       " ['day', 'To', 'him'],\n",
       " ['To', 'him', 'whose'],\n",
       " ['him', 'whose', 'eyes'],\n",
       " ['whose', 'eyes', 'are'],\n",
       " ['eyes', 'are', 'cast'],\n",
       " ['are', 'cast', 'On'],\n",
       " ['cast', 'On', 'things'],\n",
       " ['On', 'things', 'around'],\n",
       " ['things', 'around', 'him'],\n",
       " ['around', 'him', 'with'],\n",
       " ['him', 'with', 'a'],\n",
       " ['with', 'a', 'ray'],\n",
       " ['a', 'ray', 'Turned'],\n",
       " ['ray', 'Turned', 'back'],\n",
       " ['Turned', 'back', 'upon'],\n",
       " ['back', 'upon', 'the'],\n",
       " ['upon', 'the', 'past'],\n",
       " ['the', 'past', '?'],\n",
       " ['past', '?', 'That'],\n",
       " ['?', 'That', 'holy'],\n",
       " ['That', 'holy', 'dream-'],\n",
       " ['holy', 'dream-', 'that'],\n",
       " ['dream-', 'that', 'holy'],\n",
       " ['that', 'holy', 'dream'],\n",
       " ['holy', 'dream', ','],\n",
       " ['dream', ',', 'While'],\n",
       " [',', 'While', 'all'],\n",
       " ['While', 'all', 'the'],\n",
       " ['all', 'the', 'world'],\n",
       " ['the', 'world', 'were'],\n",
       " ['world', 'were', 'chiding'],\n",
       " ['were', 'chiding', ','],\n",
       " ['chiding', ',', 'Hath'],\n",
       " [',', 'Hath', 'cheered'],\n",
       " ['Hath', 'cheered', 'me'],\n",
       " ['cheered', 'me', 'as'],\n",
       " ['me', 'as', 'a'],\n",
       " ['as', 'a', 'lovely'],\n",
       " ['a', 'lovely', 'beam'],\n",
       " ['lovely', 'beam', 'A'],\n",
       " ['beam', 'A', 'lonely'],\n",
       " ['A', 'lonely', 'spirit'],\n",
       " ['lonely', 'spirit', 'guiding'],\n",
       " ['spirit', 'guiding', '.'],\n",
       " ['guiding', '.', 'What'],\n",
       " ['.', 'What', 'though'],\n",
       " ['What', 'though', 'that'],\n",
       " ['though', 'that', 'light'],\n",
       " ['that', 'light', ','],\n",
       " ['light', ',', 'thro'],\n",
       " [',', 'thro', \"'\"],\n",
       " ['thro', \"'\", 'storm'],\n",
       " [\"'\", 'storm', 'and'],\n",
       " ['storm', 'and', 'night'],\n",
       " ['and', 'night', ','],\n",
       " ['night', ',', 'So'],\n",
       " [',', 'So', 'trembled'],\n",
       " ['So', 'trembled', 'from'],\n",
       " ['trembled', 'from', 'afar-'],\n",
       " ['from', 'afar-', 'What'],\n",
       " ['afar-', 'What', 'could'],\n",
       " ['What', 'could', 'there'],\n",
       " ['could', 'there', 'be'],\n",
       " ['there', 'be', 'more'],\n",
       " ['be', 'more', 'purely'],\n",
       " ['more', 'purely', 'bright'],\n",
       " ['purely', 'bright', 'In'],\n",
       " ['bright', 'In', 'Truth'],\n",
       " ['In', 'Truth', \"'s\"],\n",
       " ['Truth', \"'s\", 'day-star'],\n",
       " [\"'s\", 'day-star', '?'],\n",
       " ['day-star', '?', 'From'],\n",
       " ['?', 'From', 'childhood'],\n",
       " ['From', 'childhood', \"'s\"],\n",
       " ['childhood', \"'s\", 'hour'],\n",
       " [\"'s\", 'hour', 'I'],\n",
       " ['hour', 'I', 'have'],\n",
       " ['I', 'have', 'not'],\n",
       " ['have', 'not', 'been'],\n",
       " ['not', 'been', 'As'],\n",
       " ['been', 'As', 'others'],\n",
       " ['As', 'others', 'were'],\n",
       " ['others', 'were', ';'],\n",
       " ['were', ';', 'I'],\n",
       " [';', 'I', 'have'],\n",
       " ['I', 'have', 'not'],\n",
       " ['have', 'not', 'seen'],\n",
       " ['not', 'seen', 'As'],\n",
       " ['seen', 'As', 'others'],\n",
       " ['As', 'others', 'saw'],\n",
       " ['others', 'saw', ';'],\n",
       " ['saw', ';', 'I'],\n",
       " [';', 'I', 'could'],\n",
       " ['I', 'could', 'not'],\n",
       " ['could', 'not', 'bring'],\n",
       " ['not', 'bring', 'My'],\n",
       " ['bring', 'My', 'passions'],\n",
       " ['My', 'passions', 'from'],\n",
       " ['passions', 'from', 'a'],\n",
       " ['from', 'a', 'common'],\n",
       " ['a', 'common', 'spring'],\n",
       " ['common', 'spring', '.'],\n",
       " ['spring', '.', 'From'],\n",
       " ['.', 'From', 'the'],\n",
       " ['From', 'the', 'same'],\n",
       " ['the', 'same', 'source'],\n",
       " ['same', 'source', 'I'],\n",
       " ['source', 'I', 'have'],\n",
       " ['I', 'have', 'not'],\n",
       " ['have', 'not', 'taken'],\n",
       " ['not', 'taken', 'My'],\n",
       " ['taken', 'My', 'sorrow'],\n",
       " ['My', 'sorrow', ';'],\n",
       " ['sorrow', ';', 'I'],\n",
       " [';', 'I', 'could'],\n",
       " ['I', 'could', 'not'],\n",
       " ['could', 'not', 'awaken'],\n",
       " ['not', 'awaken', 'My'],\n",
       " ['awaken', 'My', 'heart'],\n",
       " ['My', 'heart', 'to'],\n",
       " ['heart', 'to', 'joy'],\n",
       " ['to', 'joy', 'at'],\n",
       " ['joy', 'at', 'the'],\n",
       " ['at', 'the', 'same'],\n",
       " ['the', 'same', 'tone'],\n",
       " ['same', 'tone', ';'],\n",
       " ['tone', ';', 'And'],\n",
       " [';', 'And', 'all'],\n",
       " ['And', 'all', 'I'],\n",
       " ['all', 'I', 'loved'],\n",
       " ['I', 'loved', ','],\n",
       " ['loved', ',', 'I'],\n",
       " [',', 'I', 'loved'],\n",
       " ['I', 'loved', 'alone'],\n",
       " ['loved', 'alone', '.'],\n",
       " ['alone', '.', 'Then-'],\n",
       " ['.', 'Then-', 'in'],\n",
       " ['Then-', 'in', 'my'],\n",
       " ['in', 'my', 'childhood'],\n",
       " ['my', 'childhood', ','],\n",
       " ['childhood', ',', 'in'],\n",
       " [',', 'in', 'the'],\n",
       " ['in', 'the', 'dawn'],\n",
       " ['the', 'dawn', 'Of'],\n",
       " ['dawn', 'Of', 'a'],\n",
       " ['Of', 'a', 'most'],\n",
       " ['a', 'most', 'stormy'],\n",
       " ['most', 'stormy', 'life-'],\n",
       " ['stormy', 'life-', 'was'],\n",
       " ['life-', 'was', 'drawn'],\n",
       " ['was', 'drawn', 'From'],\n",
       " ['drawn', 'From', 'every'],\n",
       " ['From', 'every', 'depth'],\n",
       " ['every', 'depth', 'of'],\n",
       " ['depth', 'of', 'good'],\n",
       " ['of', 'good', 'and'],\n",
       " ['good', 'and', 'ill'],\n",
       " ['and', 'ill', 'The'],\n",
       " ['ill', 'The', 'mystery'],\n",
       " ['The', 'mystery', 'which'],\n",
       " ['mystery', 'which', 'binds'],\n",
       " ['which', 'binds', 'me'],\n",
       " ['binds', 'me', 'still'],\n",
       " ['me', 'still', ':'],\n",
       " ['still', ':', 'From'],\n",
       " [':', 'From', 'the'],\n",
       " ['From', 'the', 'torrent'],\n",
       " ['the', 'torrent', ','],\n",
       " ['torrent', ',', 'or'],\n",
       " [',', 'or', 'the'],\n",
       " ['or', 'the', 'fountain'],\n",
       " ['the', 'fountain', ','],\n",
       " ['fountain', ',', 'From'],\n",
       " [',', 'From', 'the'],\n",
       " ['From', 'the', 'red'],\n",
       " ['the', 'red', 'cliff'],\n",
       " ['red', 'cliff', 'of'],\n",
       " ['cliff', 'of', 'the'],\n",
       " ['of', 'the', 'mountain'],\n",
       " ['the', 'mountain', ','],\n",
       " ['mountain', ',', 'From'],\n",
       " [',', 'From', 'the'],\n",
       " ['From', 'the', 'sun'],\n",
       " ['the', 'sun', 'that'],\n",
       " ['sun', 'that', 'round'],\n",
       " ['that', 'round', 'me'],\n",
       " ['round', 'me', 'rolled'],\n",
       " ['me', 'rolled', 'In'],\n",
       " ['rolled', 'In', 'its'],\n",
       " ['In', 'its', 'autumn'],\n",
       " ['its', 'autumn', 'tint'],\n",
       " ['autumn', 'tint', 'of'],\n",
       " ['tint', 'of', 'gold'],\n",
       " ['of', 'gold', ','],\n",
       " ['gold', ',', 'From'],\n",
       " [',', 'From', 'the'],\n",
       " ['From', 'the', 'lightning'],\n",
       " ['the', 'lightning', 'in'],\n",
       " ['lightning', 'in', 'the'],\n",
       " ['in', 'the', 'sky'],\n",
       " ['the', 'sky', 'As'],\n",
       " ['sky', 'As', 'it'],\n",
       " ['As', 'it', 'passed'],\n",
       " ['it', 'passed', 'me'],\n",
       " ['passed', 'me', 'flying'],\n",
       " ['me', 'flying', 'by'],\n",
       " ['flying', 'by', ','],\n",
       " ['by', ',', 'From'],\n",
       " [',', 'From', 'the'],\n",
       " ['From', 'the', 'thunder'],\n",
       " ['the', 'thunder', 'and'],\n",
       " ['thunder', 'and', 'the'],\n",
       " ['and', 'the', 'storm'],\n",
       " ['the', 'storm', ','],\n",
       " ['storm', ',', 'And'],\n",
       " [',', 'And', 'the'],\n",
       " ['And', 'the', 'cloud'],\n",
       " ['the', 'cloud', 'that'],\n",
       " ['cloud', 'that', 'took'],\n",
       " ['that', 'took', 'the'],\n",
       " ['took', 'the', 'form'],\n",
       " ['the', 'form', '('],\n",
       " ['form', '(', 'When'],\n",
       " ['(', 'When', 'the'],\n",
       " ['When', 'the', 'rest'],\n",
       " ['the', 'rest', 'of'],\n",
       " ['rest', 'of', 'Heaven'],\n",
       " ['of', 'Heaven', 'was'],\n",
       " ['Heaven', 'was', 'blue'],\n",
       " ['was', 'blue', ')'],\n",
       " ['blue', ')', 'Of'],\n",
       " [')', 'Of', 'a'],\n",
       " ['Of', 'a', 'demon'],\n",
       " ['a', 'demon', 'in'],\n",
       " ['demon', 'in', 'my'],\n",
       " ['in', 'my', 'view'],\n",
       " ['my', 'view', '.'],\n",
       " ['view', '.', 'Oh'],\n",
       " ['.', 'Oh', '!'],\n",
       " ['Oh', '!', 'that'],\n",
       " ['!', 'that', 'my'],\n",
       " ['that', 'my', 'young'],\n",
       " ['my', 'young', 'life'],\n",
       " ['young', 'life', 'were'],\n",
       " ['life', 'were', 'a'],\n",
       " ['were', 'a', 'lasting'],\n",
       " ['a', 'lasting', 'dream'],\n",
       " ['lasting', 'dream', '!'],\n",
       " ['dream', '!', 'My'],\n",
       " ['!', 'My', 'spirit'],\n",
       " ['My', 'spirit', 'not'],\n",
       " ['spirit', 'not', 'awakening'],\n",
       " ['not', 'awakening', ','],\n",
       " ['awakening', ',', 'till'],\n",
       " [',', 'till', 'the'],\n",
       " ['till', 'the', 'beam'],\n",
       " ['the', 'beam', 'Of'],\n",
       " ['beam', 'Of', 'an'],\n",
       " ['Of', 'an', 'Eternity'],\n",
       " ['an', 'Eternity', 'should'],\n",
       " ['Eternity', 'should', 'bring'],\n",
       " ['should', 'bring', 'the'],\n",
       " ['bring', 'the', 'morrow'],\n",
       " ['the', 'morrow', '.'],\n",
       " ['morrow', '.', 'Yes'],\n",
       " ['.', 'Yes', '!'],\n",
       " ['Yes', '!', 'tho'],\n",
       " ['!', 'tho', \"'\"],\n",
       " ['tho', \"'\", 'that'],\n",
       " [\"'\", 'that', 'long'],\n",
       " ['that', 'long', 'dream'],\n",
       " ['long', 'dream', 'were'],\n",
       " ['dream', 'were', 'of'],\n",
       " ['were', 'of', 'hopeless'],\n",
       " ['of', 'hopeless', 'sorrow'],\n",
       " ['hopeless', 'sorrow', ','],\n",
       " ['sorrow', ',', \"'Twere\"],\n",
       " [',', \"'Twere\", 'better'],\n",
       " [\"'Twere\", 'better', 'than'],\n",
       " ['better', 'than', 'the'],\n",
       " ['than', 'the', 'cold'],\n",
       " ['the', 'cold', 'reality'],\n",
       " ['cold', 'reality', 'Of'],\n",
       " ['reality', 'Of', 'waking'],\n",
       " ['Of', 'waking', 'life'],\n",
       " ['waking', 'life', ','],\n",
       " ['life', ',', 'to'],\n",
       " [',', 'to', 'him'],\n",
       " ['to', 'him', 'whose'],\n",
       " ['him', 'whose', 'heart'],\n",
       " ['whose', 'heart', 'must'],\n",
       " ['heart', 'must', 'be'],\n",
       " ['must', 'be', ','],\n",
       " ['be', ',', 'And'],\n",
       " [',', 'And', 'hath'],\n",
       " ['And', 'hath', 'been'],\n",
       " ['hath', 'been', 'still'],\n",
       " ['been', 'still', ','],\n",
       " ['still', ',', 'upon'],\n",
       " [',', 'upon', 'the'],\n",
       " ['upon', 'the', 'lovely'],\n",
       " ['the', 'lovely', 'earth'],\n",
       " ['lovely', 'earth', ','],\n",
       " ['earth', ',', 'A'],\n",
       " [',', 'A', 'chaos'],\n",
       " ['A', 'chaos', 'of'],\n",
       " ['chaos', 'of', 'deep'],\n",
       " ['of', 'deep', 'passion'],\n",
       " ['deep', 'passion', ','],\n",
       " ['passion', ',', 'from'],\n",
       " [',', 'from', 'his'],\n",
       " ['from', 'his', 'birth'],\n",
       " ['his', 'birth', '.'],\n",
       " ['birth', '.', 'But'],\n",
       " ['.', 'But', 'should'],\n",
       " ['But', 'should', 'it'],\n",
       " ['should', 'it', 'be-'],\n",
       " ['it', 'be-', 'that'],\n",
       " ['be-', 'that', 'dream'],\n",
       " ['that', 'dream', 'eternally'],\n",
       " ['dream', 'eternally', 'Continuing-'],\n",
       " ['eternally', 'Continuing-', 'as'],\n",
       " ['Continuing-', 'as', 'dreams'],\n",
       " ['as', 'dreams', 'have'],\n",
       " ['dreams', 'have', 'been'],\n",
       " ['have', 'been', 'to'],\n",
       " ['been', 'to', 'me'],\n",
       " ['to', 'me', 'In'],\n",
       " ['me', 'In', 'my'],\n",
       " ['In', 'my', 'young'],\n",
       " ['my', 'young', 'boyhood-'],\n",
       " ['young', 'boyhood-', 'should'],\n",
       " ['boyhood-', 'should', 'it'],\n",
       " ['should', 'it', 'thus'],\n",
       " ['it', 'thus', 'be'],\n",
       " ['thus', 'be', 'given'],\n",
       " ['be', 'given', ','],\n",
       " ['given', ',', \"'Twere\"],\n",
       " [',', \"'Twere\", 'folly'],\n",
       " [\"'Twere\", 'folly', 'still'],\n",
       " ['folly', 'still', 'to'],\n",
       " ['still', 'to', 'hope'],\n",
       " ['to', 'hope', 'for'],\n",
       " ['hope', 'for', 'higher'],\n",
       " ['for', 'higher', 'Heaven'],\n",
       " ['higher', 'Heaven', '.'],\n",
       " ['Heaven', '.', 'For'],\n",
       " ['.', 'For', 'I'],\n",
       " ['For', 'I', 'have'],\n",
       " ['I', 'have', 'revell'],\n",
       " ['have', 'revell', \"'d\"],\n",
       " ['revell', \"'d\", ','],\n",
       " [\"'d\", ',', 'when'],\n",
       " [',', 'when', 'the'],\n",
       " ['when', 'the', 'sun'],\n",
       " ['the', 'sun', 'was'],\n",
       " ['sun', 'was', 'bright'],\n",
       " ['was', 'bright', 'I'],\n",
       " ['bright', 'I', \"'\"],\n",
       " ['I', \"'\", 'the'],\n",
       " [\"'\", 'the', 'summer'],\n",
       " ['the', 'summer', 'sky'],\n",
       " ['summer', 'sky', ','],\n",
       " ['sky', ',', 'in'],\n",
       " [',', 'in', 'dreams'],\n",
       " ['in', 'dreams', 'of'],\n",
       " ['dreams', 'of', 'living'],\n",
       " ['of', 'living', 'light'],\n",
       " ['living', 'light', 'And'],\n",
       " ['light', 'And', 'loveliness'],\n",
       " ['And', 'loveliness', ','],\n",
       " ['loveliness', ',', '-'],\n",
       " [',', '-', 'have'],\n",
       " ['-', 'have', 'left'],\n",
       " ['have', 'left', 'my'],\n",
       " ['left', 'my', 'very'],\n",
       " ['my', 'very', 'heart'],\n",
       " ['very', 'heart', 'In'],\n",
       " ['heart', 'In', 'climes'],\n",
       " ['In', 'climes', 'of'],\n",
       " ['climes', 'of', 'my'],\n",
       " ['of', 'my', 'imagining'],\n",
       " ['my', 'imagining', ','],\n",
       " ['imagining', ',', 'apart'],\n",
       " [',', 'apart', 'From'],\n",
       " ['apart', 'From', 'mine'],\n",
       " ['From', 'mine', 'own'],\n",
       " ['mine', 'own', 'home'],\n",
       " ['own', 'home', ','],\n",
       " ['home', ',', 'with'],\n",
       " [',', 'with', 'beings'],\n",
       " ['with', 'beings', 'that'],\n",
       " ['beings', 'that', 'have'],\n",
       " ['that', 'have', 'been'],\n",
       " ['have', 'been', 'Of'],\n",
       " ['been', 'Of', 'mine'],\n",
       " ['Of', 'mine', 'own'],\n",
       " ['mine', 'own', 'thought-'],\n",
       " ['own', 'thought-', 'what'],\n",
       " ['thought-', 'what', 'more'],\n",
       " ['what', 'more', 'could'],\n",
       " ['more', 'could', 'I'],\n",
       " ['could', 'I', 'have'],\n",
       " ['I', 'have', 'seen'],\n",
       " ['have', 'seen', '?'],\n",
       " ['seen', '?', \"'T\"],\n",
       " ['?', \"'T\", 'was'],\n",
       " [\"'T\", 'was', 'once-'],\n",
       " ['was', 'once-', 'and'],\n",
       " ['once-', 'and', 'only'],\n",
       " ['and', 'only', 'once-'],\n",
       " ['only', 'once-', 'and'],\n",
       " ['once-', 'and', 'the'],\n",
       " ['and', 'the', 'wild'],\n",
       " ['the', 'wild', 'hour'],\n",
       " ['wild', 'hour', 'From'],\n",
       " ['hour', 'From', 'my'],\n",
       " ['From', 'my', 'remembrance'],\n",
       " ['my', 'remembrance', 'shall'],\n",
       " ['remembrance', 'shall', 'not'],\n",
       " ['shall', 'not', 'pass-'],\n",
       " ['not', 'pass-', 'some'],\n",
       " ['pass-', 'some', 'power'],\n",
       " ['some', 'power', 'Or'],\n",
       " ['power', 'Or', 'spell'],\n",
       " ['Or', 'spell', 'had'],\n",
       " ['spell', 'had', 'bound'],\n",
       " ['had', 'bound', 'me-'],\n",
       " ['bound', 'me-', \"'t\"],\n",
       " ['me-', \"'t\", 'was'],\n",
       " [\"'t\", 'was', 'the'],\n",
       " ['was', 'the', 'chilly'],\n",
       " ['the', 'chilly', 'wind'],\n",
       " ['chilly', 'wind', 'Came'],\n",
       " ['wind', 'Came', \"o'er\"],\n",
       " ['Came', \"o'er\", 'me'],\n",
       " [\"o'er\", 'me', 'in'],\n",
       " ['me', 'in', 'the'],\n",
       " ['in', 'the', 'night'],\n",
       " ['the', 'night', ','],\n",
       " ['night', ',', 'and'],\n",
       " [',', 'and', 'left'],\n",
       " ['and', 'left', 'behind'],\n",
       " ['left', 'behind', 'Its'],\n",
       " ['behind', 'Its', 'image'],\n",
       " ['Its', 'image', 'on'],\n",
       " ['image', 'on', 'my'],\n",
       " ['on', 'my', 'spirit-'],\n",
       " ['my', 'spirit-', 'or'],\n",
       " ['spirit-', 'or', 'the'],\n",
       " ['or', 'the', 'moon'],\n",
       " ['the', 'moon', 'Shone'],\n",
       " ['moon', 'Shone', 'on'],\n",
       " ['Shone', 'on', 'my'],\n",
       " ['on', 'my', 'slumbers'],\n",
       " ['my', 'slumbers', 'in'],\n",
       " ['slumbers', 'in', 'her'],\n",
       " ['in', 'her', 'lofty'],\n",
       " ['her', 'lofty', 'noon'],\n",
       " ['lofty', 'noon', 'Too'],\n",
       " ['noon', 'Too', 'coldly-'],\n",
       " ['Too', 'coldly-', 'or'],\n",
       " ['coldly-', 'or', 'the'],\n",
       " ['or', 'the', 'stars-'],\n",
       " ['the', 'stars-', \"howe'er\"],\n",
       " ['stars-', \"howe'er\", 'it'],\n",
       " [\"howe'er\", 'it', 'was'],\n",
       " ['it', 'was', 'That'],\n",
       " ['was', 'That', 'dream'],\n",
       " ['That', 'dream', 'was'],\n",
       " ['dream', 'was', 'as'],\n",
       " ['was', 'as', 'that'],\n",
       " ['as', 'that', 'night-wind-'],\n",
       " ['that', 'night-wind-', 'let'],\n",
       " ['night-wind-', 'let', 'it'],\n",
       " ['let', 'it', 'pass'],\n",
       " ['it', 'pass', '.'],\n",
       " ['pass', '.', 'I'],\n",
       " ['.', 'I', 'have'],\n",
       " ['I', 'have', 'been'],\n",
       " ['have', 'been', 'happy'],\n",
       " ['been', 'happy', ','],\n",
       " ['happy', ',', 'tho'],\n",
       " [',', 'tho', \"'\"],\n",
       " ['tho', \"'\", 'in'],\n",
       " [\"'\", 'in', 'a'],\n",
       " ['in', 'a', 'dream'],\n",
       " ['a', 'dream', '.'],\n",
       " ['dream', '.', 'I'],\n",
       " ['.', 'I', 'have'],\n",
       " ['I', 'have', 'been'],\n",
       " ['have', 'been', 'happy-'],\n",
       " ['been', 'happy-', 'and'],\n",
       " ['happy-', 'and', 'I'],\n",
       " ['and', 'I', 'love'],\n",
       " ['I', 'love', 'the'],\n",
       " ['love', 'the', 'theme'],\n",
       " ['the', 'theme', ':'],\n",
       " ['theme', ':', 'Dreams'],\n",
       " [':', 'Dreams', '!'],\n",
       " ['Dreams', '!', 'in'],\n",
       " ['!', 'in', 'their'],\n",
       " ['in', 'their', 'vivid'],\n",
       " ['their', 'vivid', 'coloring'],\n",
       " ['vivid', 'coloring', 'of'],\n",
       " ['coloring', 'of', 'life'],\n",
       " ['of', 'life', ','],\n",
       " ['life', ',', 'As'],\n",
       " [',', 'As', 'in'],\n",
       " ['As', 'in', 'that'],\n",
       " ['in', 'that', 'fleeting'],\n",
       " ['that', 'fleeting', ','],\n",
       " ['fleeting', ',', 'shadowy'],\n",
       " [',', 'shadowy', ','],\n",
       " ['shadowy', ',', 'misty'],\n",
       " [',', 'misty', 'strife'],\n",
       " ['misty', 'strife', 'Of'],\n",
       " ['strife', 'Of', 'semblance'],\n",
       " ['Of', 'semblance', 'with'],\n",
       " ['semblance', 'with', 'reality'],\n",
       " ['with', 'reality', ','],\n",
       " ['reality', ',', 'which'],\n",
       " [',', 'which', 'brings'],\n",
       " ['which', 'brings', 'To'],\n",
       " ['brings', 'To', 'the'],\n",
       " ['To', 'the', 'delirious'],\n",
       " ['the', 'delirious', 'eye'],\n",
       " ['delirious', 'eye', ','],\n",
       " ['eye', ',', 'more'],\n",
       " [',', 'more', 'lovely'],\n",
       " ['more', 'lovely', 'things'],\n",
       " ['lovely', 'things', 'Of'],\n",
       " ['things', 'Of', 'Paradise'],\n",
       " ['Of', 'Paradise', 'and'],\n",
       " ['Paradise', 'and', 'Love-'],\n",
       " ['and', 'Love-', 'and'],\n",
       " ['Love-', 'and', 'all'],\n",
       " ['and', 'all', 'our'],\n",
       " ['all', 'our', 'own'],\n",
       " ['our', 'own', '!'],\n",
       " ['own', '!', 'Than'],\n",
       " ['!', 'Than', 'young'],\n",
       " ['Than', 'young', 'Hope'],\n",
       " ['young', 'Hope', 'in'],\n",
       " ['Hope', 'in', 'his'],\n",
       " ['in', 'his', 'sunniest'],\n",
       " ['his', 'sunniest', 'hour'],\n",
       " ['sunniest', 'hour', 'hath'],\n",
       " ['hour', 'hath', 'known']]"
      ]
     },
     "execution_count": 10,
     "metadata": {},
     "output_type": "execute_result"
    }
   ],
   "source": [
    "x"
   ]
  },
  {
   "cell_type": "code",
   "execution_count": 11,
   "id": "9d968014",
   "metadata": {},
   "outputs": [
    {
     "data": {
      "text/plain": [
       "['the',\n",
       " 'dark',\n",
       " 'night',\n",
       " 'I',\n",
       " 'have',\n",
       " 'dreamed',\n",
       " 'of',\n",
       " 'joy',\n",
       " 'departed-',\n",
       " 'But',\n",
       " 'a',\n",
       " 'waking',\n",
       " 'dream',\n",
       " 'of',\n",
       " 'life',\n",
       " 'and',\n",
       " 'light',\n",
       " 'Hath',\n",
       " 'left',\n",
       " 'me',\n",
       " 'broken-hearted',\n",
       " '.',\n",
       " 'Ah',\n",
       " '!',\n",
       " 'what',\n",
       " 'is',\n",
       " 'not',\n",
       " 'a',\n",
       " 'dream',\n",
       " 'by',\n",
       " 'day',\n",
       " 'To',\n",
       " 'him',\n",
       " 'whose',\n",
       " 'eyes',\n",
       " 'are',\n",
       " 'cast',\n",
       " 'On',\n",
       " 'things',\n",
       " 'around',\n",
       " 'him',\n",
       " 'with',\n",
       " 'a',\n",
       " 'ray',\n",
       " 'Turned',\n",
       " 'back',\n",
       " 'upon',\n",
       " 'the',\n",
       " 'past',\n",
       " '?',\n",
       " 'That',\n",
       " 'holy',\n",
       " 'dream-',\n",
       " 'that',\n",
       " 'holy',\n",
       " 'dream',\n",
       " ',',\n",
       " 'While',\n",
       " 'all',\n",
       " 'the',\n",
       " 'world',\n",
       " 'were',\n",
       " 'chiding',\n",
       " ',',\n",
       " 'Hath',\n",
       " 'cheered',\n",
       " 'me',\n",
       " 'as',\n",
       " 'a',\n",
       " 'lovely',\n",
       " 'beam',\n",
       " 'A',\n",
       " 'lonely',\n",
       " 'spirit',\n",
       " 'guiding',\n",
       " '.',\n",
       " 'What',\n",
       " 'though',\n",
       " 'that',\n",
       " 'light',\n",
       " ',',\n",
       " 'thro',\n",
       " \"'\",\n",
       " 'storm',\n",
       " 'and',\n",
       " 'night',\n",
       " ',',\n",
       " 'So',\n",
       " 'trembled',\n",
       " 'from',\n",
       " 'afar-',\n",
       " 'What',\n",
       " 'could',\n",
       " 'there',\n",
       " 'be',\n",
       " 'more',\n",
       " 'purely',\n",
       " 'bright',\n",
       " 'In',\n",
       " 'Truth',\n",
       " \"'s\",\n",
       " 'day-star',\n",
       " '?',\n",
       " 'From',\n",
       " 'childhood',\n",
       " \"'s\",\n",
       " 'hour',\n",
       " 'I',\n",
       " 'have',\n",
       " 'not',\n",
       " 'been',\n",
       " 'As',\n",
       " 'others',\n",
       " 'were',\n",
       " ';',\n",
       " 'I',\n",
       " 'have',\n",
       " 'not',\n",
       " 'seen',\n",
       " 'As',\n",
       " 'others',\n",
       " 'saw',\n",
       " ';',\n",
       " 'I',\n",
       " 'could',\n",
       " 'not',\n",
       " 'bring',\n",
       " 'My',\n",
       " 'passions',\n",
       " 'from',\n",
       " 'a',\n",
       " 'common',\n",
       " 'spring',\n",
       " '.',\n",
       " 'From',\n",
       " 'the',\n",
       " 'same',\n",
       " 'source',\n",
       " 'I',\n",
       " 'have',\n",
       " 'not',\n",
       " 'taken',\n",
       " 'My',\n",
       " 'sorrow',\n",
       " ';',\n",
       " 'I',\n",
       " 'could',\n",
       " 'not',\n",
       " 'awaken',\n",
       " 'My',\n",
       " 'heart',\n",
       " 'to',\n",
       " 'joy',\n",
       " 'at',\n",
       " 'the',\n",
       " 'same',\n",
       " 'tone',\n",
       " ';',\n",
       " 'And',\n",
       " 'all',\n",
       " 'I',\n",
       " 'loved',\n",
       " ',',\n",
       " 'I',\n",
       " 'loved',\n",
       " 'alone',\n",
       " '.',\n",
       " 'Then-',\n",
       " 'in',\n",
       " 'my',\n",
       " 'childhood',\n",
       " ',',\n",
       " 'in',\n",
       " 'the',\n",
       " 'dawn',\n",
       " 'Of',\n",
       " 'a',\n",
       " 'most',\n",
       " 'stormy',\n",
       " 'life-',\n",
       " 'was',\n",
       " 'drawn',\n",
       " 'From',\n",
       " 'every',\n",
       " 'depth',\n",
       " 'of',\n",
       " 'good',\n",
       " 'and',\n",
       " 'ill',\n",
       " 'The',\n",
       " 'mystery',\n",
       " 'which',\n",
       " 'binds',\n",
       " 'me',\n",
       " 'still',\n",
       " ':',\n",
       " 'From',\n",
       " 'the',\n",
       " 'torrent',\n",
       " ',',\n",
       " 'or',\n",
       " 'the',\n",
       " 'fountain',\n",
       " ',',\n",
       " 'From',\n",
       " 'the',\n",
       " 'red',\n",
       " 'cliff',\n",
       " 'of',\n",
       " 'the',\n",
       " 'mountain',\n",
       " ',',\n",
       " 'From',\n",
       " 'the',\n",
       " 'sun',\n",
       " 'that',\n",
       " 'round',\n",
       " 'me',\n",
       " 'rolled',\n",
       " 'In',\n",
       " 'its',\n",
       " 'autumn',\n",
       " 'tint',\n",
       " 'of',\n",
       " 'gold',\n",
       " ',',\n",
       " 'From',\n",
       " 'the',\n",
       " 'lightning',\n",
       " 'in',\n",
       " 'the',\n",
       " 'sky',\n",
       " 'As',\n",
       " 'it',\n",
       " 'passed',\n",
       " 'me',\n",
       " 'flying',\n",
       " 'by',\n",
       " ',',\n",
       " 'From',\n",
       " 'the',\n",
       " 'thunder',\n",
       " 'and',\n",
       " 'the',\n",
       " 'storm',\n",
       " ',',\n",
       " 'And',\n",
       " 'the',\n",
       " 'cloud',\n",
       " 'that',\n",
       " 'took',\n",
       " 'the',\n",
       " 'form',\n",
       " '(',\n",
       " 'When',\n",
       " 'the',\n",
       " 'rest',\n",
       " 'of',\n",
       " 'Heaven',\n",
       " 'was',\n",
       " 'blue',\n",
       " ')',\n",
       " 'Of',\n",
       " 'a',\n",
       " 'demon',\n",
       " 'in',\n",
       " 'my',\n",
       " 'view',\n",
       " '.',\n",
       " 'Oh',\n",
       " '!',\n",
       " 'that',\n",
       " 'my',\n",
       " 'young',\n",
       " 'life',\n",
       " 'were',\n",
       " 'a',\n",
       " 'lasting',\n",
       " 'dream',\n",
       " '!',\n",
       " 'My',\n",
       " 'spirit',\n",
       " 'not',\n",
       " 'awakening',\n",
       " ',',\n",
       " 'till',\n",
       " 'the',\n",
       " 'beam',\n",
       " 'Of',\n",
       " 'an',\n",
       " 'Eternity',\n",
       " 'should',\n",
       " 'bring',\n",
       " 'the',\n",
       " 'morrow',\n",
       " '.',\n",
       " 'Yes',\n",
       " '!',\n",
       " 'tho',\n",
       " \"'\",\n",
       " 'that',\n",
       " 'long',\n",
       " 'dream',\n",
       " 'were',\n",
       " 'of',\n",
       " 'hopeless',\n",
       " 'sorrow',\n",
       " ',',\n",
       " \"'Twere\",\n",
       " 'better',\n",
       " 'than',\n",
       " 'the',\n",
       " 'cold',\n",
       " 'reality',\n",
       " 'Of',\n",
       " 'waking',\n",
       " 'life',\n",
       " ',',\n",
       " 'to',\n",
       " 'him',\n",
       " 'whose',\n",
       " 'heart',\n",
       " 'must',\n",
       " 'be',\n",
       " ',',\n",
       " 'And',\n",
       " 'hath',\n",
       " 'been',\n",
       " 'still',\n",
       " ',',\n",
       " 'upon',\n",
       " 'the',\n",
       " 'lovely',\n",
       " 'earth',\n",
       " ',',\n",
       " 'A',\n",
       " 'chaos',\n",
       " 'of',\n",
       " 'deep',\n",
       " 'passion',\n",
       " ',',\n",
       " 'from',\n",
       " 'his',\n",
       " 'birth',\n",
       " '.',\n",
       " 'But',\n",
       " 'should',\n",
       " 'it',\n",
       " 'be-',\n",
       " 'that',\n",
       " 'dream',\n",
       " 'eternally',\n",
       " 'Continuing-',\n",
       " 'as',\n",
       " 'dreams',\n",
       " 'have',\n",
       " 'been',\n",
       " 'to',\n",
       " 'me',\n",
       " 'In',\n",
       " 'my',\n",
       " 'young',\n",
       " 'boyhood-',\n",
       " 'should',\n",
       " 'it',\n",
       " 'thus',\n",
       " 'be',\n",
       " 'given',\n",
       " ',',\n",
       " \"'Twere\",\n",
       " 'folly',\n",
       " 'still',\n",
       " 'to',\n",
       " 'hope',\n",
       " 'for',\n",
       " 'higher',\n",
       " 'Heaven',\n",
       " '.',\n",
       " 'For',\n",
       " 'I',\n",
       " 'have',\n",
       " 'revell',\n",
       " \"'d\",\n",
       " ',',\n",
       " 'when',\n",
       " 'the',\n",
       " 'sun',\n",
       " 'was',\n",
       " 'bright',\n",
       " 'I',\n",
       " \"'\",\n",
       " 'the',\n",
       " 'summer',\n",
       " 'sky',\n",
       " ',',\n",
       " 'in',\n",
       " 'dreams',\n",
       " 'of',\n",
       " 'living',\n",
       " 'light',\n",
       " 'And',\n",
       " 'loveliness',\n",
       " ',',\n",
       " '-',\n",
       " 'have',\n",
       " 'left',\n",
       " 'my',\n",
       " 'very',\n",
       " 'heart',\n",
       " 'In',\n",
       " 'climes',\n",
       " 'of',\n",
       " 'my',\n",
       " 'imagining',\n",
       " ',',\n",
       " 'apart',\n",
       " 'From',\n",
       " 'mine',\n",
       " 'own',\n",
       " 'home',\n",
       " ',',\n",
       " 'with',\n",
       " 'beings',\n",
       " 'that',\n",
       " 'have',\n",
       " 'been',\n",
       " 'Of',\n",
       " 'mine',\n",
       " 'own',\n",
       " 'thought-',\n",
       " 'what',\n",
       " 'more',\n",
       " 'could',\n",
       " 'I',\n",
       " 'have',\n",
       " 'seen',\n",
       " '?',\n",
       " \"'T\",\n",
       " 'was',\n",
       " 'once-',\n",
       " 'and',\n",
       " 'only',\n",
       " 'once-',\n",
       " 'and',\n",
       " 'the',\n",
       " 'wild',\n",
       " 'hour',\n",
       " 'From',\n",
       " 'my',\n",
       " 'remembrance',\n",
       " 'shall',\n",
       " 'not',\n",
       " 'pass-',\n",
       " 'some',\n",
       " 'power',\n",
       " 'Or',\n",
       " 'spell',\n",
       " 'had',\n",
       " 'bound',\n",
       " 'me-',\n",
       " \"'t\",\n",
       " 'was',\n",
       " 'the',\n",
       " 'chilly',\n",
       " 'wind',\n",
       " 'Came',\n",
       " \"o'er\",\n",
       " 'me',\n",
       " 'in',\n",
       " 'the',\n",
       " 'night',\n",
       " ',',\n",
       " 'and',\n",
       " 'left',\n",
       " 'behind',\n",
       " 'Its',\n",
       " 'image',\n",
       " 'on',\n",
       " 'my',\n",
       " 'spirit-',\n",
       " 'or',\n",
       " 'the',\n",
       " 'moon',\n",
       " 'Shone',\n",
       " 'on',\n",
       " 'my',\n",
       " 'slumbers',\n",
       " 'in',\n",
       " 'her',\n",
       " 'lofty',\n",
       " 'noon',\n",
       " 'Too',\n",
       " 'coldly-',\n",
       " 'or',\n",
       " 'the',\n",
       " 'stars-',\n",
       " \"howe'er\",\n",
       " 'it',\n",
       " 'was',\n",
       " 'That',\n",
       " 'dream',\n",
       " 'was',\n",
       " 'as',\n",
       " 'that',\n",
       " 'night-wind-',\n",
       " 'let',\n",
       " 'it',\n",
       " 'pass',\n",
       " '.',\n",
       " 'I',\n",
       " 'have',\n",
       " 'been',\n",
       " 'happy',\n",
       " ',',\n",
       " 'tho',\n",
       " \"'\",\n",
       " 'in',\n",
       " 'a',\n",
       " 'dream',\n",
       " '.',\n",
       " 'I',\n",
       " 'have',\n",
       " 'been',\n",
       " 'happy-',\n",
       " 'and',\n",
       " 'I',\n",
       " 'love',\n",
       " 'the',\n",
       " 'theme',\n",
       " ':',\n",
       " 'Dreams',\n",
       " '!',\n",
       " 'in',\n",
       " 'their',\n",
       " 'vivid',\n",
       " 'coloring',\n",
       " 'of',\n",
       " 'life',\n",
       " ',',\n",
       " 'As',\n",
       " 'in',\n",
       " 'that',\n",
       " 'fleeting',\n",
       " ',',\n",
       " 'shadowy',\n",
       " ',',\n",
       " 'misty',\n",
       " 'strife',\n",
       " 'Of',\n",
       " 'semblance',\n",
       " 'with',\n",
       " 'reality',\n",
       " ',',\n",
       " 'which',\n",
       " 'brings',\n",
       " 'To',\n",
       " 'the',\n",
       " 'delirious',\n",
       " 'eye',\n",
       " ',',\n",
       " 'more',\n",
       " 'lovely',\n",
       " 'things',\n",
       " 'Of',\n",
       " 'Paradise',\n",
       " 'and',\n",
       " 'Love-',\n",
       " 'and',\n",
       " 'all',\n",
       " 'our',\n",
       " 'own',\n",
       " '!',\n",
       " 'Than',\n",
       " 'young',\n",
       " 'Hope',\n",
       " 'in',\n",
       " 'his',\n",
       " 'sunniest',\n",
       " 'hour',\n",
       " 'hath',\n",
       " 'known',\n",
       " '.']"
      ]
     },
     "execution_count": 11,
     "metadata": {},
     "output_type": "execute_result"
    }
   ],
   "source": [
    "y"
   ]
  },
  {
   "cell_type": "code",
   "execution_count": 12,
   "id": "98640a0a",
   "metadata": {},
   "outputs": [
    {
     "data": {
      "text/plain": [
       "[237,\n",
       " 99,\n",
       " 181,\n",
       " 29,\n",
       " 133,\n",
       " 111,\n",
       " 186,\n",
       " 152,\n",
       " 106,\n",
       " 19,\n",
       " 53,\n",
       " 260,\n",
       " 109,\n",
       " 186,\n",
       " 157,\n",
       " 58,\n",
       " 159,\n",
       " 26,\n",
       " 155,\n",
       " 169,\n",
       " 83,\n",
       " 11,\n",
       " 16,\n",
       " 0,\n",
       " 263,\n",
       " 149,\n",
       " 184,\n",
       " 53,\n",
       " 109,\n",
       " 84,\n",
       " 101,\n",
       " 45,\n",
       " 137,\n",
       " 266,\n",
       " 117,\n",
       " 60,\n",
       " 85,\n",
       " 36,\n",
       " 241,\n",
       " 61,\n",
       " 137,\n",
       " 269,\n",
       " 53,\n",
       " 202,\n",
       " 48,\n",
       " 67,\n",
       " 255,\n",
       " 237,\n",
       " 199,\n",
       " 14,\n",
       " 42,\n",
       " 139,\n",
       " 110,\n",
       " 236,\n",
       " 139,\n",
       " 109,\n",
       " 9,\n",
       " 51,\n",
       " 55,\n",
       " 237,\n",
       " 270,\n",
       " 262,\n",
       " 88,\n",
       " 9,\n",
       " 26,\n",
       " 87,\n",
       " 169,\n",
       " 62,\n",
       " 53,\n",
       " 168,\n",
       " 70,\n",
       " 15,\n",
       " 163,\n",
       " 223,\n",
       " 128,\n",
       " 11,\n",
       " 49,\n",
       " 243,\n",
       " 236,\n",
       " 159,\n",
       " 9,\n",
       " 245,\n",
       " 1,\n",
       " 228,\n",
       " 58,\n",
       " 181,\n",
       " 9,\n",
       " 40,\n",
       " 254,\n",
       " 124,\n",
       " 54,\n",
       " 49,\n",
       " 98,\n",
       " 240,\n",
       " 68,\n",
       " 174,\n",
       " 201,\n",
       " 80,\n",
       " 30,\n",
       " 47,\n",
       " 5,\n",
       " 102,\n",
       " 14,\n",
       " 25,\n",
       " 89,\n",
       " 5,\n",
       " 143,\n",
       " 29,\n",
       " 133,\n",
       " 184,\n",
       " 71,\n",
       " 18,\n",
       " 191,\n",
       " 262,\n",
       " 13,\n",
       " 29,\n",
       " 133,\n",
       " 184,\n",
       " 212,\n",
       " 18,\n",
       " 191,\n",
       " 211,\n",
       " 13,\n",
       " 29,\n",
       " 98,\n",
       " 184,\n",
       " 81,\n",
       " 33,\n",
       " 198,\n",
       " 124,\n",
       " 53,\n",
       " 97,\n",
       " 225,\n",
       " 11,\n",
       " 25,\n",
       " 237,\n",
       " 210,\n",
       " 221,\n",
       " 29,\n",
       " 133,\n",
       " 184,\n",
       " 234,\n",
       " 33,\n",
       " 220,\n",
       " 13,\n",
       " 29,\n",
       " 98,\n",
       " 184,\n",
       " 65,\n",
       " 33,\n",
       " 134,\n",
       " 250,\n",
       " 152,\n",
       " 63,\n",
       " 237,\n",
       " 210,\n",
       " 251,\n",
       " 13,\n",
       " 17,\n",
       " 55,\n",
       " 29,\n",
       " 166,\n",
       " 9,\n",
       " 29,\n",
       " 166,\n",
       " 56,\n",
       " 11,\n",
       " 44,\n",
       " 148,\n",
       " 179,\n",
       " 89,\n",
       " 9,\n",
       " 148,\n",
       " 237,\n",
       " 100,\n",
       " 34,\n",
       " 53,\n",
       " 176,\n",
       " 229,\n",
       " 158,\n",
       " 261,\n",
       " 108,\n",
       " 25,\n",
       " 115,\n",
       " 107,\n",
       " 186,\n",
       " 127,\n",
       " 58,\n",
       " 145,\n",
       " 43,\n",
       " 180,\n",
       " 265,\n",
       " 75,\n",
       " 169,\n",
       " 227,\n",
       " 12,\n",
       " 25,\n",
       " 237,\n",
       " 253,\n",
       " 9,\n",
       " 190,\n",
       " 237,\n",
       " 123,\n",
       " 9,\n",
       " 25,\n",
       " 237,\n",
       " 204,\n",
       " 91,\n",
       " 186,\n",
       " 237,\n",
       " 177,\n",
       " 9,\n",
       " 25,\n",
       " 237,\n",
       " 232,\n",
       " 236,\n",
       " 209,\n",
       " 169,\n",
       " 208,\n",
       " 30,\n",
       " 151,\n",
       " 64,\n",
       " 249,\n",
       " 186,\n",
       " 126,\n",
       " 9,\n",
       " 25,\n",
       " 237,\n",
       " 160,\n",
       " 148,\n",
       " 237,\n",
       " 217,\n",
       " 18,\n",
       " 150,\n",
       " 196,\n",
       " 169,\n",
       " 119,\n",
       " 84,\n",
       " 9,\n",
       " 25,\n",
       " 237,\n",
       " 246,\n",
       " 58,\n",
       " 237,\n",
       " 228,\n",
       " 9,\n",
       " 17,\n",
       " 237,\n",
       " 93,\n",
       " 236,\n",
       " 252,\n",
       " 237,\n",
       " 122,\n",
       " 7,\n",
       " 50,\n",
       " 237,\n",
       " 206,\n",
       " 186,\n",
       " 27,\n",
       " 261,\n",
       " 77,\n",
       " 8,\n",
       " 34,\n",
       " 53,\n",
       " 105,\n",
       " 148,\n",
       " 179,\n",
       " 257,\n",
       " 11,\n",
       " 35,\n",
       " 0,\n",
       " 236,\n",
       " 179,\n",
       " 271,\n",
       " 157,\n",
       " 262,\n",
       " 53,\n",
       " 154,\n",
       " 109,\n",
       " 0,\n",
       " 33,\n",
       " 223,\n",
       " 184,\n",
       " 66,\n",
       " 9,\n",
       " 248,\n",
       " 237,\n",
       " 70,\n",
       " 34,\n",
       " 57,\n",
       " 23,\n",
       " 216,\n",
       " 81,\n",
       " 237,\n",
       " 175,\n",
       " 11,\n",
       " 52,\n",
       " 0,\n",
       " 242,\n",
       " 1,\n",
       " 236,\n",
       " 164,\n",
       " 109,\n",
       " 262,\n",
       " 186,\n",
       " 142,\n",
       " 220,\n",
       " 9,\n",
       " 3,\n",
       " 74,\n",
       " 235,\n",
       " 237,\n",
       " 94,\n",
       " 203,\n",
       " 34,\n",
       " 260,\n",
       " 157,\n",
       " 9,\n",
       " 250,\n",
       " 137,\n",
       " 266,\n",
       " 134,\n",
       " 178,\n",
       " 68,\n",
       " 9,\n",
       " 17,\n",
       " 132,\n",
       " 71,\n",
       " 227,\n",
       " 9,\n",
       " 255,\n",
       " 237,\n",
       " 168,\n",
       " 113,\n",
       " 9,\n",
       " 15,\n",
       " 86,\n",
       " 186,\n",
       " 103,\n",
       " 197,\n",
       " 9,\n",
       " 124,\n",
       " 138,\n",
       " 76,\n",
       " 11,\n",
       " 19,\n",
       " 216,\n",
       " 150,\n",
       " 69,\n",
       " 236,\n",
       " 109,\n",
       " 114,\n",
       " 21,\n",
       " 62,\n",
       " 112,\n",
       " 133,\n",
       " 71,\n",
       " 250,\n",
       " 169,\n",
       " 30,\n",
       " 179,\n",
       " 271,\n",
       " 79,\n",
       " 216,\n",
       " 150,\n",
       " 247,\n",
       " 68,\n",
       " 125,\n",
       " 9,\n",
       " 3,\n",
       " 120,\n",
       " 227,\n",
       " 250,\n",
       " 141,\n",
       " 121,\n",
       " 136,\n",
       " 27,\n",
       " 11,\n",
       " 24,\n",
       " 29,\n",
       " 133,\n",
       " 207,\n",
       " 4,\n",
       " 9,\n",
       " 264,\n",
       " 237,\n",
       " 232,\n",
       " 261,\n",
       " 80,\n",
       " 29,\n",
       " 1,\n",
       " 237,\n",
       " 231,\n",
       " 217,\n",
       " 9,\n",
       " 148,\n",
       " 112,\n",
       " 186,\n",
       " 161,\n",
       " 159,\n",
       " 17,\n",
       " 167,\n",
       " 9,\n",
       " 10,\n",
       " 133,\n",
       " 155,\n",
       " 179,\n",
       " 256,\n",
       " 134,\n",
       " 30,\n",
       " 92,\n",
       " 186,\n",
       " 179,\n",
       " 147,\n",
       " 9,\n",
       " 59,\n",
       " 25,\n",
       " 171,\n",
       " 193,\n",
       " 140,\n",
       " 9,\n",
       " 269,\n",
       " 73,\n",
       " 236,\n",
       " 133,\n",
       " 71,\n",
       " 34,\n",
       " 171,\n",
       " 193,\n",
       " 244,\n",
       " 263,\n",
       " 174,\n",
       " 98,\n",
       " 29,\n",
       " 133,\n",
       " 212,\n",
       " 14,\n",
       " 2,\n",
       " 261,\n",
       " 188,\n",
       " 58,\n",
       " 189,\n",
       " 188,\n",
       " 58,\n",
       " 237,\n",
       " 267,\n",
       " 143,\n",
       " 25,\n",
       " 179,\n",
       " 205,\n",
       " 215,\n",
       " 184,\n",
       " 195,\n",
       " 219,\n",
       " 200,\n",
       " 37,\n",
       " 222,\n",
       " 129,\n",
       " 78,\n",
       " 170,\n",
       " 6,\n",
       " 261,\n",
       " 237,\n",
       " 90,\n",
       " 268,\n",
       " 20,\n",
       " 185,\n",
       " 169,\n",
       " 148,\n",
       " 237,\n",
       " 181,\n",
       " 9,\n",
       " 58,\n",
       " 155,\n",
       " 72,\n",
       " 31,\n",
       " 146,\n",
       " 187,\n",
       " 179,\n",
       " 224,\n",
       " 190,\n",
       " 237,\n",
       " 173,\n",
       " 39,\n",
       " 187,\n",
       " 179,\n",
       " 218,\n",
       " 148,\n",
       " 135,\n",
       " 162,\n",
       " 183,\n",
       " 46,\n",
       " 95,\n",
       " 190,\n",
       " 237,\n",
       " 226,\n",
       " 144,\n",
       " 150,\n",
       " 261,\n",
       " 42,\n",
       " 109,\n",
       " 261,\n",
       " 62,\n",
       " 236,\n",
       " 182,\n",
       " 156,\n",
       " 150,\n",
       " 194,\n",
       " 11,\n",
       " 29,\n",
       " 133,\n",
       " 71,\n",
       " 130,\n",
       " 9,\n",
       " 242,\n",
       " 1,\n",
       " 148,\n",
       " 53,\n",
       " 109,\n",
       " 11,\n",
       " 29,\n",
       " 133,\n",
       " 71,\n",
       " 131,\n",
       " 58,\n",
       " 29,\n",
       " 165,\n",
       " 237,\n",
       " 239,\n",
       " 12,\n",
       " 22,\n",
       " 0,\n",
       " 148,\n",
       " 238,\n",
       " 259,\n",
       " 96,\n",
       " 186,\n",
       " 157,\n",
       " 9,\n",
       " 18,\n",
       " 148,\n",
       " 236,\n",
       " 118,\n",
       " 9,\n",
       " 214,\n",
       " 9,\n",
       " 172,\n",
       " 230,\n",
       " 34,\n",
       " 213,\n",
       " 269,\n",
       " 203,\n",
       " 9,\n",
       " 265,\n",
       " 82,\n",
       " 45,\n",
       " 237,\n",
       " 104,\n",
       " 116,\n",
       " 9,\n",
       " 174,\n",
       " 168,\n",
       " 241,\n",
       " 34,\n",
       " 38,\n",
       " 58,\n",
       " 32,\n",
       " 58,\n",
       " 55,\n",
       " 192,\n",
       " 193,\n",
       " 0,\n",
       " 41,\n",
       " 271,\n",
       " 28,\n",
       " 148,\n",
       " 138,\n",
       " 233,\n",
       " 143,\n",
       " 132,\n",
       " 153,\n",
       " 11]"
      ]
     },
     "execution_count": 12,
     "metadata": {},
     "output_type": "execute_result"
    }
   ],
   "source": [
    "y_ints = [word_indices[item] for item in y]\n",
    "\n",
    "y_ints"
   ]
  },
  {
   "cell_type": "code",
   "execution_count": 13,
   "id": "3872d5ee",
   "metadata": {},
   "outputs": [
    {
     "data": {
      "text/plain": [
       "array([[0., 0., 0., ..., 0., 0., 0.],\n",
       "       [0., 0., 0., ..., 0., 0., 0.],\n",
       "       [0., 0., 0., ..., 0., 0., 0.],\n",
       "       ...,\n",
       "       [0., 0., 0., ..., 0., 0., 0.],\n",
       "       [0., 0., 0., ..., 0., 0., 0.],\n",
       "       [0., 0., 0., ..., 0., 0., 0.]])"
      ]
     },
     "execution_count": 13,
     "metadata": {},
     "output_type": "execute_result"
    }
   ],
   "source": [
    "y_encoded = []\n",
    "\n",
    "for item in y_ints:\n",
    "    y_vector = np.zeros(len(unique_words))\n",
    "    y_vector[item] = 1\n",
    "    y_encoded.append(y_vector)\n",
    "\n",
    "y_encoded = np.array(y_encoded)\n",
    "y_encoded"
   ]
  },
  {
   "cell_type": "code",
   "execution_count": 14,
   "id": "8af723c2",
   "metadata": {},
   "outputs": [
    {
     "data": {
      "text/plain": [
       "array([[[0., 0., 0., ..., 0., 0., 0.],\n",
       "        [0., 0., 0., ..., 0., 0., 0.],\n",
       "        [0., 0., 0., ..., 0., 0., 0.]],\n",
       "\n",
       "       [[0., 0., 0., ..., 0., 0., 0.],\n",
       "        [0., 0., 0., ..., 0., 0., 0.],\n",
       "        [0., 0., 0., ..., 0., 0., 0.]],\n",
       "\n",
       "       [[0., 0., 0., ..., 0., 0., 0.],\n",
       "        [0., 0., 0., ..., 0., 0., 0.],\n",
       "        [0., 0., 0., ..., 0., 0., 0.]],\n",
       "\n",
       "       ...,\n",
       "\n",
       "       [[0., 0., 0., ..., 0., 0., 0.],\n",
       "        [0., 0., 0., ..., 0., 0., 0.],\n",
       "        [0., 0., 0., ..., 0., 0., 0.]],\n",
       "\n",
       "       [[0., 0., 0., ..., 0., 0., 0.],\n",
       "        [0., 0., 0., ..., 0., 0., 0.],\n",
       "        [0., 0., 0., ..., 0., 0., 0.]],\n",
       "\n",
       "       [[0., 0., 0., ..., 0., 0., 0.],\n",
       "        [0., 0., 0., ..., 0., 0., 0.],\n",
       "        [0., 0., 0., ..., 0., 0., 0.]]])"
      ]
     },
     "execution_count": 14,
     "metadata": {},
     "output_type": "execute_result"
    }
   ],
   "source": [
    "x_encoded = []\n",
    "\n",
    "for x_arr in x:\n",
    "    x_ints = [word_indices[item] for item in x_arr]\n",
    "    \n",
    "    x_row = []\n",
    "    for item in x_ints:\n",
    "        x_vector = np.zeros(len(unique_words))\n",
    "        x_vector[item] = 1\n",
    "        x_row.append(x_vector)\n",
    "        \n",
    "    x_encoded.append(x_row)\n",
    "    \n",
    "x_encoded = np.array(x_encoded)\n",
    "\n",
    "x_encoded"
   ]
  },
  {
   "cell_type": "code",
   "execution_count": 15,
   "id": "89aa45cf",
   "metadata": {},
   "outputs": [],
   "source": [
    "class EdgarAllanPoeAI(nn.Module):\n",
    "    def __init__(self, input_dim, output_dim, block_size):\n",
    "        super().__init__()\n",
    "\n",
    "        self.embeddings = nn.Linear(input_dim, 30 * block_size)\n",
    "        self.hidden = nn.Linear(30 * block_size, 50)\n",
    "        self.output = nn.Linear(50, output_dim)\n",
    "        \n",
    "        self.relu = nn.ReLU()\n",
    "        self.sigmoid = nn.Sigmoid()\n",
    "        self.softmax = nn.Softmax(dim=1)\n",
    "\n",
    "    def forward(self, x):\n",
    "        # f(x) = a(f(x))\n",
    "        x = self.relu(self.embeddings(x))\n",
    "        x = self.relu(self.hidden(x))\n",
    "        y = self.sigmoid(self.output(x))\n",
    "        y = self.softmax(y)\n",
    "\n",
    "        return y"
   ]
  },
  {
   "cell_type": "code",
   "execution_count": 16,
   "id": "fbefc6c4",
   "metadata": {},
   "outputs": [
    {
     "data": {
      "text/plain": [
       "816"
      ]
     },
     "execution_count": 16,
     "metadata": {},
     "output_type": "execute_result"
    }
   ],
   "source": [
    "input_size = x_encoded[0].ravel().shape[0]\n",
    "\n",
    "input_size"
   ]
  },
  {
   "cell_type": "code",
   "execution_count": 17,
   "id": "6b62307c",
   "metadata": {},
   "outputs": [
    {
     "data": {
      "text/plain": [
       "EdgarAllanPoeAI(\n",
       "  (embeddings): Linear(in_features=816, out_features=90, bias=True)\n",
       "  (hidden): Linear(in_features=90, out_features=50, bias=True)\n",
       "  (output): Linear(in_features=50, out_features=272, bias=True)\n",
       "  (relu): ReLU()\n",
       "  (sigmoid): Sigmoid()\n",
       "  (softmax): Softmax(dim=1)\n",
       ")"
      ]
     },
     "execution_count": 17,
     "metadata": {},
     "output_type": "execute_result"
    }
   ],
   "source": [
    "model = EdgarAllanPoeAI(input_size, len(unique_words), block_size)\n",
    "\n",
    "model"
   ]
  },
  {
   "cell_type": "code",
   "execution_count": 18,
   "id": "ff55a2c0",
   "metadata": {},
   "outputs": [],
   "source": [
    "from torch.utils.data import Dataset\n",
    "\n",
    "class CustomDataset(Dataset):\n",
    "    def __init__(self, x, y):\n",
    "        self.x = x\n",
    "        self.y = y\n",
    "        \n",
    "        self.n_samples = len(x)\n",
    "    \n",
    "    def __getitem__(self, index):\n",
    "        return self.x[index].ravel(), self.y[index]\n",
    "    \n",
    "    def __len__(self):\n",
    "        return self.n_samples\n"
   ]
  },
  {
   "cell_type": "code",
   "execution_count": 19,
   "id": "b2b9df33",
   "metadata": {},
   "outputs": [
    {
     "data": {
      "text/plain": [
       "<__main__.CustomDataset at 0x7f5581687220>"
      ]
     },
     "execution_count": 19,
     "metadata": {},
     "output_type": "execute_result"
    }
   ],
   "source": [
    "device = 'cpu'\n",
    "x = torch.tensor(x_encoded).float().to(device)\n",
    "y = torch.tensor(y_encoded).float().to(device)\n",
    "\n",
    "training_ds = CustomDataset(x, y)\n",
    "\n",
    "training_ds"
   ]
  },
  {
   "cell_type": "code",
   "execution_count": 20,
   "id": "8edc8856",
   "metadata": {},
   "outputs": [],
   "source": [
    "from torch.utils.data import DataLoader\n",
    "\n",
    "batch_size = 5\n",
    "\n",
    "train_loader = DataLoader(\n",
    "    training_ds,\n",
    "    batch_size=batch_size,\n",
    "    shuffle=False,\n",
    "    drop_last=False\n",
    ")"
   ]
  },
  {
   "cell_type": "code",
   "execution_count": 21,
   "id": "621eb717",
   "metadata": {},
   "outputs": [],
   "source": [
    "optimizer = optim.Adam(model.parameters(), lr=0.0001)\n",
    "criterion = nn.CrossEntropyLoss()\n",
    "\n",
    "softmax = nn.Softmax(dim=1)\n",
    "\n",
    "def train_fn(loader, model, optimizer, loss_fn, device):\n",
    "    loop = tqdm(loader)\n",
    "\n",
    "    ave_loss = 0\n",
    "    count = 0 \n",
    "    for batch_idx, (data, targets) in enumerate(loop):\n",
    "        data = data.to(device=device)\n",
    "        targets = targets.to(device=device)\n",
    "        \n",
    "        # Forward\n",
    "        predictions = model.forward(data)\n",
    "        \n",
    "        loss = loss_fn(predictions, targets)\n",
    "        \n",
    "        # Backward\n",
    "        optimizer.zero_grad()\n",
    "        \n",
    "        loss.backward()\n",
    "        \n",
    "        optimizer.step()\n",
    "        \n",
    "        # Update tqdm\n",
    "        loop.set_postfix(loss=loss.item())\n",
    "\n",
    "        count += 1\n",
    "        ave_loss += loss.item()\n",
    "    \n",
    "    ave_loss = ave_loss / count\n",
    "\n",
    "    return ave_loss"
   ]
  },
  {
   "cell_type": "code",
   "execution_count": 22,
   "id": "7b738f59",
   "metadata": {},
   "outputs": [
    {
     "name": "stdout",
     "output_type": "stream",
     "text": [
      "Epoch: 0\n"
     ]
    },
    {
     "name": "stderr",
     "output_type": "stream",
     "text": [
      "100%|████████████████████████████████████████████████████████████████████████████████████████████████████████████████████████████████████████████████████████████████| 117/117 [00:00<00:00, 438.60it/s, loss=5.61]\n"
     ]
    },
    {
     "name": "stdout",
     "output_type": "stream",
     "text": [
      "Ave Loss: 5.6057999480483875\n",
      "Epoch: 1\n"
     ]
    },
    {
     "name": "stderr",
     "output_type": "stream",
     "text": [
      "100%|████████████████████████████████████████████████████████████████████████████████████████████████████████████████████████████████████████████████████████████████| 117/117 [00:00<00:00, 545.25it/s, loss=5.61]\n"
     ]
    },
    {
     "name": "stdout",
     "output_type": "stream",
     "text": [
      "Ave Loss: 5.605790778103038\n",
      "Epoch: 2\n"
     ]
    },
    {
     "name": "stderr",
     "output_type": "stream",
     "text": [
      "100%|████████████████████████████████████████████████████████████████████████████████████████████████████████████████████████████████████████████████████████████████| 117/117 [00:00<00:00, 551.22it/s, loss=5.61]\n"
     ]
    },
    {
     "name": "stdout",
     "output_type": "stream",
     "text": [
      "Ave Loss: 5.605783087575538\n",
      "Epoch: 3\n"
     ]
    },
    {
     "name": "stderr",
     "output_type": "stream",
     "text": [
      "100%|████████████████████████████████████████████████████████████████████████████████████████████████████████████████████████████████████████████████████████████████| 117/117 [00:00<00:00, 567.27it/s, loss=5.61]\n"
     ]
    },
    {
     "name": "stdout",
     "output_type": "stream",
     "text": [
      "Ave Loss: 5.60577376683553\n",
      "Epoch: 4\n"
     ]
    },
    {
     "name": "stderr",
     "output_type": "stream",
     "text": [
      "100%|████████████████████████████████████████████████████████████████████████████████████████████████████████████████████████████████████████████████████████████████| 117/117 [00:00<00:00, 530.08it/s, loss=5.61]\n"
     ]
    },
    {
     "name": "stdout",
     "output_type": "stream",
     "text": [
      "Ave Loss: 5.605761617676825\n",
      "Epoch: 5\n"
     ]
    },
    {
     "name": "stderr",
     "output_type": "stream",
     "text": [
      "100%|████████████████████████████████████████████████████████████████████████████████████████████████████████████████████████████████████████████████████████████████| 117/117 [00:00<00:00, 555.82it/s, loss=5.61]\n"
     ]
    },
    {
     "name": "stdout",
     "output_type": "stream",
     "text": [
      "Ave Loss: 5.605743872813689\n",
      "Epoch: 6\n"
     ]
    },
    {
     "name": "stderr",
     "output_type": "stream",
     "text": [
      "100%|████████████████████████████████████████████████████████████████████████████████████████████████████████████████████████████████████████████████████████████████| 117/117 [00:00<00:00, 553.07it/s, loss=5.61]\n"
     ]
    },
    {
     "name": "stdout",
     "output_type": "stream",
     "text": [
      "Ave Loss: 5.605715083260821\n",
      "Epoch: 7\n"
     ]
    },
    {
     "name": "stderr",
     "output_type": "stream",
     "text": [
      "100%|████████████████████████████████████████████████████████████████████████████████████████████████████████████████████████████████████████████████████████████████| 117/117 [00:00<00:00, 552.41it/s, loss=5.61]\n"
     ]
    },
    {
     "name": "stdout",
     "output_type": "stream",
     "text": [
      "Ave Loss: 5.605664526295458\n",
      "Epoch: 8\n"
     ]
    },
    {
     "name": "stderr",
     "output_type": "stream",
     "text": [
      "100%|████████████████████████████████████████████████████████████████████████████████████████████████████████████████████████████████████████████████████████████████| 117/117 [00:00<00:00, 584.35it/s, loss=5.61]\n"
     ]
    },
    {
     "name": "stdout",
     "output_type": "stream",
     "text": [
      "Ave Loss: 5.605574188069401\n",
      "Epoch: 9\n"
     ]
    },
    {
     "name": "stderr",
     "output_type": "stream",
     "text": [
      "100%|████████████████████████████████████████████████████████████████████████████████████████████████████████████████████████████████████████████████████████████████| 117/117 [00:00<00:00, 615.56it/s, loss=5.61]\n"
     ]
    },
    {
     "name": "stdout",
     "output_type": "stream",
     "text": [
      "Ave Loss: 5.605419468675923\n",
      "Epoch: 10\n"
     ]
    },
    {
     "name": "stderr",
     "output_type": "stream",
     "text": [
      "100%|█████████████████████████████████████████████████████████████████████████████████████████████████████████████████████████████████████████████████████████████████| 117/117 [00:00<00:00, 614.68it/s, loss=5.6]\n"
     ]
    },
    {
     "name": "stdout",
     "output_type": "stream",
     "text": [
      "Ave Loss: 5.605185716580122\n",
      "Epoch: 11\n"
     ]
    },
    {
     "name": "stderr",
     "output_type": "stream",
     "text": [
      "100%|█████████████████████████████████████████████████████████████████████████████████████████████████████████████████████████████████████████████████████████████████| 117/117 [00:00<00:00, 638.93it/s, loss=5.6]\n"
     ]
    },
    {
     "name": "stdout",
     "output_type": "stream",
     "text": [
      "Ave Loss: 5.604910895355746\n",
      "Epoch: 12\n"
     ]
    },
    {
     "name": "stderr",
     "output_type": "stream",
     "text": [
      "100%|█████████████████████████████████████████████████████████████████████████████████████████████████████████████████████████████████████████████████████████████████| 117/117 [00:00<00:00, 639.30it/s, loss=5.6]\n"
     ]
    },
    {
     "name": "stdout",
     "output_type": "stream",
     "text": [
      "Ave Loss: 5.604658375438462\n",
      "Epoch: 13\n"
     ]
    },
    {
     "name": "stderr",
     "output_type": "stream",
     "text": [
      "100%|█████████████████████████████████████████████████████████████████████████████████████████████████████████████████████████████████████████████████████████████████| 117/117 [00:00<00:00, 652.92it/s, loss=5.6]\n"
     ]
    },
    {
     "name": "stdout",
     "output_type": "stream",
     "text": [
      "Ave Loss: 5.604466369009425\n",
      "Epoch: 14\n"
     ]
    },
    {
     "name": "stderr",
     "output_type": "stream",
     "text": [
      "100%|█████████████████████████████████████████████████████████████████████████████████████████████████████████████████████████████████████████████████████████████████| 117/117 [00:00<00:00, 694.09it/s, loss=5.6]\n"
     ]
    },
    {
     "name": "stdout",
     "output_type": "stream",
     "text": [
      "Ave Loss: 5.604336388090736\n",
      "Epoch: 15\n"
     ]
    },
    {
     "name": "stderr",
     "output_type": "stream",
     "text": [
      "100%|█████████████████████████████████████████████████████████████████████████████████████████████████████████████████████████████████████████████████████████████████| 117/117 [00:00<00:00, 712.43it/s, loss=5.6]\n"
     ]
    },
    {
     "name": "stdout",
     "output_type": "stream",
     "text": [
      "Ave Loss: 5.604251107598981\n",
      "Epoch: 16\n"
     ]
    },
    {
     "name": "stderr",
     "output_type": "stream",
     "text": [
      "100%|█████████████████████████████████████████████████████████████████████████████████████████████████████████████████████████████████████████████████████████████████| 117/117 [00:00<00:00, 671.82it/s, loss=5.6]\n"
     ]
    },
    {
     "name": "stdout",
     "output_type": "stream",
     "text": [
      "Ave Loss: 5.6041938463846845\n",
      "Epoch: 17\n"
     ]
    },
    {
     "name": "stderr",
     "output_type": "stream",
     "text": [
      "100%|█████████████████████████████████████████████████████████████████████████████████████████████████████████████████████████████████████████████████████████████████| 117/117 [00:00<00:00, 684.13it/s, loss=5.6]\n"
     ]
    },
    {
     "name": "stdout",
     "output_type": "stream",
     "text": [
      "Ave Loss: 5.604153433416644\n",
      "Epoch: 18\n"
     ]
    },
    {
     "name": "stderr",
     "output_type": "stream",
     "text": [
      "100%|█████████████████████████████████████████████████████████████████████████████████████████████████████████████████████████████████████████████████████████████████| 117/117 [00:00<00:00, 661.74it/s, loss=5.6]\n"
     ]
    },
    {
     "name": "stdout",
     "output_type": "stream",
     "text": [
      "Ave Loss: 5.604123429355458\n",
      "Epoch: 19\n"
     ]
    },
    {
     "name": "stderr",
     "output_type": "stream",
     "text": [
      "100%|█████████████████████████████████████████████████████████████████████████████████████████████████████████████████████████████████████████████████████████████████| 117/117 [00:00<00:00, 669.67it/s, loss=5.6]\n"
     ]
    },
    {
     "name": "stdout",
     "output_type": "stream",
     "text": [
      "Ave Loss: 5.604100133618738\n",
      "Epoch: 20\n"
     ]
    },
    {
     "name": "stderr",
     "output_type": "stream",
     "text": [
      "100%|█████████████████████████████████████████████████████████████████████████████████████████████████████████████████████████████████████████████████████████████████| 117/117 [00:00<00:00, 704.23it/s, loss=5.6]\n"
     ]
    },
    {
     "name": "stdout",
     "output_type": "stream",
     "text": [
      "Ave Loss: 5.604081141643035\n",
      "Epoch: 21\n"
     ]
    },
    {
     "name": "stderr",
     "output_type": "stream",
     "text": [
      "100%|█████████████████████████████████████████████████████████████████████████████████████████████████████████████████████████████████████████████████████████████████| 117/117 [00:00<00:00, 656.41it/s, loss=5.6]\n"
     ]
    },
    {
     "name": "stdout",
     "output_type": "stream",
     "text": [
      "Ave Loss: 5.604065104427501\n",
      "Epoch: 22\n"
     ]
    },
    {
     "name": "stderr",
     "output_type": "stream",
     "text": [
      "100%|█████████████████████████████████████████████████████████████████████████████████████████████████████████████████████████████████████████████████████████████████| 117/117 [00:00<00:00, 662.42it/s, loss=5.6]\n"
     ]
    },
    {
     "name": "stdout",
     "output_type": "stream",
     "text": [
      "Ave Loss: 5.604051113128662\n",
      "Epoch: 23\n"
     ]
    },
    {
     "name": "stderr",
     "output_type": "stream",
     "text": [
      "100%|█████████████████████████████████████████████████████████████████████████████████████████████████████████████████████████████████████████████████████████████████| 117/117 [00:00<00:00, 661.20it/s, loss=5.6]\n"
     ]
    },
    {
     "name": "stdout",
     "output_type": "stream",
     "text": [
      "Ave Loss: 5.604038556416829\n",
      "Epoch: 24\n"
     ]
    },
    {
     "name": "stderr",
     "output_type": "stream",
     "text": [
      "100%|█████████████████████████████████████████████████████████████████████████████████████████████████████████████████████████████████████████████████████████████████| 117/117 [00:00<00:00, 654.05it/s, loss=5.6]\n"
     ]
    },
    {
     "name": "stdout",
     "output_type": "stream",
     "text": [
      "Ave Loss: 5.604026981908032\n",
      "Epoch: 25\n"
     ]
    },
    {
     "name": "stderr",
     "output_type": "stream",
     "text": [
      "100%|█████████████████████████████████████████████████████████████████████████████████████████████████████████████████████████████████████████████████████████████████| 117/117 [00:00<00:00, 651.03it/s, loss=5.6]\n"
     ]
    },
    {
     "name": "stdout",
     "output_type": "stream",
     "text": [
      "Ave Loss: 5.604015994275737\n",
      "Epoch: 26\n"
     ]
    },
    {
     "name": "stderr",
     "output_type": "stream",
     "text": [
      "100%|█████████████████████████████████████████████████████████████████████████████████████████████████████████████████████████████████████████████████████████████████| 117/117 [00:00<00:00, 709.09it/s, loss=5.6]\n"
     ]
    },
    {
     "name": "stdout",
     "output_type": "stream",
     "text": [
      "Ave Loss: 5.604005512009319\n",
      "Epoch: 27\n"
     ]
    },
    {
     "name": "stderr",
     "output_type": "stream",
     "text": [
      "100%|█████████████████████████████████████████████████████████████████████████████████████████████████████████████████████████████████████████████████████████████████| 117/117 [00:00<00:00, 653.59it/s, loss=5.6]\n"
     ]
    },
    {
     "name": "stdout",
     "output_type": "stream",
     "text": [
      "Ave Loss: 5.603995319105621\n",
      "Epoch: 28\n"
     ]
    },
    {
     "name": "stderr",
     "output_type": "stream",
     "text": [
      "100%|█████████████████████████████████████████████████████████████████████████████████████████████████████████████████████████████████████████████████████████████████| 117/117 [00:00<00:00, 672.47it/s, loss=5.6]\n"
     ]
    },
    {
     "name": "stdout",
     "output_type": "stream",
     "text": [
      "Ave Loss: 5.603985399262518\n",
      "Epoch: 29\n"
     ]
    },
    {
     "name": "stderr",
     "output_type": "stream",
     "text": [
      "100%|█████████████████████████████████████████████████████████████████████████████████████████████████████████████████████████████████████████████████████████████████| 117/117 [00:00<00:00, 649.66it/s, loss=5.6]\n"
     ]
    },
    {
     "name": "stdout",
     "output_type": "stream",
     "text": [
      "Ave Loss: 5.603975703573634\n",
      "Epoch: 30\n"
     ]
    },
    {
     "name": "stderr",
     "output_type": "stream",
     "text": [
      "100%|█████████████████████████████████████████████████████████████████████████████████████████████████████████████████████████████████████████████████████████████████| 117/117 [00:00<00:00, 657.10it/s, loss=5.6]\n"
     ]
    },
    {
     "name": "stdout",
     "output_type": "stream",
     "text": [
      "Ave Loss: 5.603966158679408\n",
      "Epoch: 31\n"
     ]
    },
    {
     "name": "stderr",
     "output_type": "stream",
     "text": [
      "100%|█████████████████████████████████████████████████████████████████████████████████████████████████████████████████████████████████████████████████████████████████| 117/117 [00:00<00:00, 660.58it/s, loss=5.6]\n"
     ]
    },
    {
     "name": "stdout",
     "output_type": "stream",
     "text": [
      "Ave Loss: 5.603956707522401\n",
      "Epoch: 32\n"
     ]
    },
    {
     "name": "stderr",
     "output_type": "stream",
     "text": [
      "100%|█████████████████████████████████████████████████████████████████████████████████████████████████████████████████████████████████████████████████████████████████| 117/117 [00:00<00:00, 654.51it/s, loss=5.6]\n"
     ]
    },
    {
     "name": "stdout",
     "output_type": "stream",
     "text": [
      "Ave Loss: 5.6039473419515495\n",
      "Epoch: 33\n"
     ]
    },
    {
     "name": "stderr",
     "output_type": "stream",
     "text": [
      "100%|█████████████████████████████████████████████████████████████████████████████████████████████████████████████████████████████████████████████████████████████████| 117/117 [00:00<00:00, 668.89it/s, loss=5.6]\n"
     ]
    },
    {
     "name": "stdout",
     "output_type": "stream",
     "text": [
      "Ave Loss: 5.60393804566473\n",
      "Epoch: 34\n"
     ]
    },
    {
     "name": "stderr",
     "output_type": "stream",
     "text": [
      "100%|█████████████████████████████████████████████████████████████████████████████████████████████████████████████████████████████████████████████████████████████████| 117/117 [00:00<00:00, 683.57it/s, loss=5.6]\n"
     ]
    },
    {
     "name": "stdout",
     "output_type": "stream",
     "text": [
      "Ave Loss: 5.603928623036442\n",
      "Epoch: 35\n"
     ]
    },
    {
     "name": "stderr",
     "output_type": "stream",
     "text": [
      "100%|█████████████████████████████████████████████████████████████████████████████████████████████████████████████████████████████████████████████████████████████████| 117/117 [00:00<00:00, 663.30it/s, loss=5.6]\n"
     ]
    },
    {
     "name": "stdout",
     "output_type": "stream",
     "text": [
      "Ave Loss: 5.603919343051747\n",
      "Epoch: 36\n"
     ]
    },
    {
     "name": "stderr",
     "output_type": "stream",
     "text": [
      "100%|█████████████████████████████████████████████████████████████████████████████████████████████████████████████████████████████████████████████████████████████████| 117/117 [00:00<00:00, 630.78it/s, loss=5.6]\n"
     ]
    },
    {
     "name": "stdout",
     "output_type": "stream",
     "text": [
      "Ave Loss: 5.6039102383148975\n",
      "Epoch: 37\n"
     ]
    },
    {
     "name": "stderr",
     "output_type": "stream",
     "text": [
      "100%|█████████████████████████████████████████████████████████████████████████████████████████████████████████████████████████████████████████████████████████████████| 117/117 [00:00<00:00, 663.55it/s, loss=5.6]\n"
     ]
    },
    {
     "name": "stdout",
     "output_type": "stream",
     "text": [
      "Ave Loss: 5.603901117275923\n",
      "Epoch: 38\n"
     ]
    },
    {
     "name": "stderr",
     "output_type": "stream",
     "text": [
      "100%|█████████████████████████████████████████████████████████████████████████████████████████████████████████████████████████████████████████████████████████████████| 117/117 [00:00<00:00, 698.18it/s, loss=5.6]\n"
     ]
    },
    {
     "name": "stdout",
     "output_type": "stream",
     "text": [
      "Ave Loss: 5.603892114427355\n",
      "Epoch: 39\n"
     ]
    },
    {
     "name": "stderr",
     "output_type": "stream",
     "text": [
      "100%|█████████████████████████████████████████████████████████████████████████████████████████████████████████████████████████████████████████████████████████████████| 117/117 [00:00<00:00, 659.49it/s, loss=5.6]\n"
     ]
    },
    {
     "name": "stdout",
     "output_type": "stream",
     "text": [
      "Ave Loss: 5.603883062672411\n",
      "Epoch: 40\n"
     ]
    },
    {
     "name": "stderr",
     "output_type": "stream",
     "text": [
      "100%|█████████████████████████████████████████████████████████████████████████████████████████████████████████████████████████████████████████████████████████████████| 117/117 [00:00<00:00, 623.93it/s, loss=5.6]\n"
     ]
    },
    {
     "name": "stdout",
     "output_type": "stream",
     "text": [
      "Ave Loss: 5.60387401906853\n",
      "Epoch: 41\n"
     ]
    },
    {
     "name": "stderr",
     "output_type": "stream",
     "text": [
      "100%|█████████████████████████████████████████████████████████████████████████████████████████████████████████████████████████████████████████████████████████████████| 117/117 [00:00<00:00, 664.80it/s, loss=5.6]\n"
     ]
    },
    {
     "name": "stdout",
     "output_type": "stream",
     "text": [
      "Ave Loss: 5.60386481651893\n",
      "Epoch: 42\n"
     ]
    },
    {
     "name": "stderr",
     "output_type": "stream",
     "text": [
      "100%|█████████████████████████████████████████████████████████████████████████████████████████████████████████████████████████████████████████████████████████████████| 117/117 [00:00<00:00, 647.29it/s, loss=5.6]\n"
     ]
    },
    {
     "name": "stdout",
     "output_type": "stream",
     "text": [
      "Ave Loss: 5.603855565062955\n",
      "Epoch: 43\n"
     ]
    },
    {
     "name": "stderr",
     "output_type": "stream",
     "text": [
      "100%|█████████████████████████████████████████████████████████████████████████████████████████████████████████████████████████████████████████████████████████████████| 117/117 [00:00<00:00, 656.33it/s, loss=5.6]\n"
     ]
    },
    {
     "name": "stdout",
     "output_type": "stream",
     "text": [
      "Ave Loss: 5.6038462076431665\n",
      "Epoch: 44\n"
     ]
    },
    {
     "name": "stderr",
     "output_type": "stream",
     "text": [
      "100%|█████████████████████████████████████████████████████████████████████████████████████████████████████████████████████████████████████████████████████████████████| 117/117 [00:00<00:00, 645.07it/s, loss=5.6]\n"
     ]
    },
    {
     "name": "stdout",
     "output_type": "stream",
     "text": [
      "Ave Loss: 5.603836776863815\n",
      "Epoch: 45\n"
     ]
    },
    {
     "name": "stderr",
     "output_type": "stream",
     "text": [
      "100%|█████████████████████████████████████████████████████████████████████████████████████████████████████████████████████████████████████████████████████████████████| 117/117 [00:00<00:00, 620.97it/s, loss=5.6]\n"
     ]
    },
    {
     "name": "stdout",
     "output_type": "stream",
     "text": [
      "Ave Loss: 5.603827024117495\n",
      "Epoch: 46\n"
     ]
    },
    {
     "name": "stderr",
     "output_type": "stream",
     "text": [
      "100%|█████████████████████████████████████████████████████████████████████████████████████████████████████████████████████████████████████████████████████████████████| 117/117 [00:00<00:00, 664.85it/s, loss=5.6]\n"
     ]
    },
    {
     "name": "stdout",
     "output_type": "stream",
     "text": [
      "Ave Loss: 5.603817059443547\n",
      "Epoch: 47\n"
     ]
    },
    {
     "name": "stderr",
     "output_type": "stream",
     "text": [
      "100%|█████████████████████████████████████████████████████████████████████████████████████████████████████████████████████████████████████████████████████████████████| 117/117 [00:00<00:00, 640.72it/s, loss=5.6]\n"
     ]
    },
    {
     "name": "stdout",
     "output_type": "stream",
     "text": [
      "Ave Loss: 5.603806687216474\n",
      "Epoch: 48\n"
     ]
    },
    {
     "name": "stderr",
     "output_type": "stream",
     "text": [
      "100%|█████████████████████████████████████████████████████████████████████████████████████████████████████████████████████████████████████████████████████████████████| 117/117 [00:00<00:00, 609.39it/s, loss=5.6]\n"
     ]
    },
    {
     "name": "stdout",
     "output_type": "stream",
     "text": [
      "Ave Loss: 5.603796225327712\n",
      "Epoch: 49\n"
     ]
    },
    {
     "name": "stderr",
     "output_type": "stream",
     "text": [
      "100%|█████████████████████████████████████████████████████████████████████████████████████████████████████████████████████████████████████████████████████████████████| 117/117 [00:00<00:00, 650.34it/s, loss=5.6]\n"
     ]
    },
    {
     "name": "stdout",
     "output_type": "stream",
     "text": [
      "Ave Loss: 5.603785486302824\n",
      "Epoch: 50\n"
     ]
    },
    {
     "name": "stderr",
     "output_type": "stream",
     "text": [
      "100%|█████████████████████████████████████████████████████████████████████████████████████████████████████████████████████████████████████████████████████████████████| 117/117 [00:00<00:00, 640.14it/s, loss=5.6]\n"
     ]
    },
    {
     "name": "stdout",
     "output_type": "stream",
     "text": [
      "Ave Loss: 5.60377456795456\n",
      "Epoch: 51\n"
     ]
    },
    {
     "name": "stderr",
     "output_type": "stream",
     "text": [
      "100%|█████████████████████████████████████████████████████████████████████████████████████████████████████████████████████████████████████████████████████████████████| 117/117 [00:00<00:00, 641.47it/s, loss=5.6]\n"
     ]
    },
    {
     "name": "stdout",
     "output_type": "stream",
     "text": [
      "Ave Loss: 5.603763343941452\n",
      "Epoch: 52\n"
     ]
    },
    {
     "name": "stderr",
     "output_type": "stream",
     "text": [
      "100%|█████████████████████████████████████████████████████████████████████████████████████████████████████████████████████████████████████████████████████████████████| 117/117 [00:00<00:00, 648.36it/s, loss=5.6]\n"
     ]
    },
    {
     "name": "stdout",
     "output_type": "stream",
     "text": [
      "Ave Loss: 5.603751981360281\n",
      "Epoch: 53\n"
     ]
    },
    {
     "name": "stderr",
     "output_type": "stream",
     "text": [
      "100%|█████████████████████████████████████████████████████████████████████████████████████████████████████████████████████████████████████████████████████████████████| 117/117 [00:00<00:00, 618.46it/s, loss=5.6]\n"
     ]
    },
    {
     "name": "stdout",
     "output_type": "stream",
     "text": [
      "Ave Loss: 5.603740296812139\n",
      "Epoch: 54\n"
     ]
    },
    {
     "name": "stderr",
     "output_type": "stream",
     "text": [
      "100%|█████████████████████████████████████████████████████████████████████████████████████████████████████████████████████████████████████████████████████████████████| 117/117 [00:00<00:00, 625.68it/s, loss=5.6]\n"
     ]
    },
    {
     "name": "stdout",
     "output_type": "stream",
     "text": [
      "Ave Loss: 5.60372833105234\n",
      "Epoch: 55\n"
     ]
    },
    {
     "name": "stderr",
     "output_type": "stream",
     "text": [
      "100%|█████████████████████████████████████████████████████████████████████████████████████████████████████████████████████████████████████████████████████████████████| 117/117 [00:00<00:00, 627.11it/s, loss=5.6]\n"
     ]
    },
    {
     "name": "stdout",
     "output_type": "stream",
     "text": [
      "Ave Loss: 5.603716047401102\n",
      "Epoch: 56\n"
     ]
    },
    {
     "name": "stderr",
     "output_type": "stream",
     "text": [
      "100%|█████████████████████████████████████████████████████████████████████████████████████████████████████████████████████████████████████████████████████████████████| 117/117 [00:00<00:00, 580.27it/s, loss=5.6]\n"
     ]
    },
    {
     "name": "stdout",
     "output_type": "stream",
     "text": [
      "Ave Loss: 5.603703596653083\n",
      "Epoch: 57\n"
     ]
    },
    {
     "name": "stderr",
     "output_type": "stream",
     "text": [
      "100%|█████████████████████████████████████████████████████████████████████████████████████████████████████████████████████████████████████████████████████████████████| 117/117 [00:00<00:00, 625.16it/s, loss=5.6]\n"
     ]
    },
    {
     "name": "stdout",
     "output_type": "stream",
     "text": [
      "Ave Loss: 5.603690917675312\n",
      "Epoch: 58\n"
     ]
    },
    {
     "name": "stderr",
     "output_type": "stream",
     "text": [
      "100%|█████████████████████████████████████████████████████████████████████████████████████████████████████████████████████████████████████████████████████████████████| 117/117 [00:00<00:00, 650.10it/s, loss=5.6]\n"
     ]
    },
    {
     "name": "stdout",
     "output_type": "stream",
     "text": [
      "Ave Loss: 5.603677920806102\n",
      "Epoch: 59\n"
     ]
    },
    {
     "name": "stderr",
     "output_type": "stream",
     "text": [
      "100%|█████████████████████████████████████████████████████████████████████████████████████████████████████████████████████████████████████████████████████████████████| 117/117 [00:00<00:00, 624.50it/s, loss=5.6]\n"
     ]
    },
    {
     "name": "stdout",
     "output_type": "stream",
     "text": [
      "Ave Loss: 5.603664650876298\n",
      "Epoch: 60\n"
     ]
    },
    {
     "name": "stderr",
     "output_type": "stream",
     "text": [
      "100%|█████████████████████████████████████████████████████████████████████████████████████████████████████████████████████████████████████████████████████████████████| 117/117 [00:00<00:00, 640.40it/s, loss=5.6]\n"
     ]
    },
    {
     "name": "stdout",
     "output_type": "stream",
     "text": [
      "Ave Loss: 5.603651067130586\n",
      "Epoch: 61\n"
     ]
    },
    {
     "name": "stderr",
     "output_type": "stream",
     "text": [
      "100%|█████████████████████████████████████████████████████████████████████████████████████████████████████████████████████████████████████████████████████████████████| 117/117 [00:00<00:00, 639.68it/s, loss=5.6]\n"
     ]
    },
    {
     "name": "stdout",
     "output_type": "stream",
     "text": [
      "Ave Loss: 5.603637173644498\n",
      "Epoch: 62\n"
     ]
    },
    {
     "name": "stderr",
     "output_type": "stream",
     "text": [
      "100%|█████████████████████████████████████████████████████████████████████████████████████████████████████████████████████████████████████████████████████████████████| 117/117 [00:00<00:00, 635.50it/s, loss=5.6]\n"
     ]
    },
    {
     "name": "stdout",
     "output_type": "stream",
     "text": [
      "Ave Loss: 5.603622986720159\n",
      "Epoch: 63\n"
     ]
    },
    {
     "name": "stderr",
     "output_type": "stream",
     "text": [
      "100%|█████████████████████████████████████████████████████████████████████████████████████████████████████████████████████████████████████████████████████████████████| 117/117 [00:00<00:00, 570.12it/s, loss=5.6]\n"
     ]
    },
    {
     "name": "stdout",
     "output_type": "stream",
     "text": [
      "Ave Loss: 5.603608485979912\n",
      "Epoch: 64\n"
     ]
    },
    {
     "name": "stderr",
     "output_type": "stream",
     "text": [
      "100%|█████████████████████████████████████████████████████████████████████████████████████████████████████████████████████████████████████████████████████████████████| 117/117 [00:00<00:00, 607.23it/s, loss=5.6]\n"
     ]
    },
    {
     "name": "stdout",
     "output_type": "stream",
     "text": [
      "Ave Loss: 5.60359361436632\n",
      "Epoch: 65\n"
     ]
    },
    {
     "name": "stderr",
     "output_type": "stream",
     "text": [
      "100%|█████████████████████████████████████████████████████████████████████████████████████████████████████████████████████████████████████████████████████████████████| 117/117 [00:00<00:00, 625.33it/s, loss=5.6]\n"
     ]
    },
    {
     "name": "stdout",
     "output_type": "stream",
     "text": [
      "Ave Loss: 5.603578404483632\n",
      "Epoch: 66\n"
     ]
    },
    {
     "name": "stderr",
     "output_type": "stream",
     "text": [
      "100%|█████████████████████████████████████████████████████████████████████████████████████████████████████████████████████████████████████████████████████████████████| 117/117 [00:00<00:00, 603.83it/s, loss=5.6]\n"
     ]
    },
    {
     "name": "stdout",
     "output_type": "stream",
     "text": [
      "Ave Loss: 5.603562950069069\n",
      "Epoch: 67\n"
     ]
    },
    {
     "name": "stderr",
     "output_type": "stream",
     "text": [
      "100%|█████████████████████████████████████████████████████████████████████████████████████████████████████████████████████████████████████████████████████████████████| 117/117 [00:00<00:00, 581.60it/s, loss=5.6]\n"
     ]
    },
    {
     "name": "stdout",
     "output_type": "stream",
     "text": [
      "Ave Loss: 5.6035470514215975\n",
      "Epoch: 68\n"
     ]
    },
    {
     "name": "stderr",
     "output_type": "stream",
     "text": [
      "100%|█████████████████████████████████████████████████████████████████████████████████████████████████████████████████████████████████████████████████████████████████| 117/117 [00:00<00:00, 591.92it/s, loss=5.6]\n"
     ]
    },
    {
     "name": "stdout",
     "output_type": "stream",
     "text": [
      "Ave Loss: 5.603530814505031\n",
      "Epoch: 69\n"
     ]
    },
    {
     "name": "stderr",
     "output_type": "stream",
     "text": [
      "100%|█████████████████████████████████████████████████████████████████████████████████████████████████████████████████████████████████████████████████████████████████| 117/117 [00:00<00:00, 582.26it/s, loss=5.6]\n"
     ]
    },
    {
     "name": "stdout",
     "output_type": "stream",
     "text": [
      "Ave Loss: 5.6035141700353375\n",
      "Epoch: 70\n"
     ]
    },
    {
     "name": "stderr",
     "output_type": "stream",
     "text": [
      "100%|█████████████████████████████████████████████████████████████████████████████████████████████████████████████████████████████████████████████████████████████████| 117/117 [00:00<00:00, 597.81it/s, loss=5.6]\n"
     ]
    },
    {
     "name": "stdout",
     "output_type": "stream",
     "text": [
      "Ave Loss: 5.603496849027454\n",
      "Epoch: 71\n"
     ]
    },
    {
     "name": "stderr",
     "output_type": "stream",
     "text": [
      "100%|█████████████████████████████████████████████████████████████████████████████████████████████████████████████████████████████████████████████████████████████████| 117/117 [00:00<00:00, 621.47it/s, loss=5.6]\n"
     ]
    },
    {
     "name": "stdout",
     "output_type": "stream",
     "text": [
      "Ave Loss: 5.603479263110039\n",
      "Epoch: 72\n"
     ]
    },
    {
     "name": "stderr",
     "output_type": "stream",
     "text": [
      "100%|█████████████████████████████████████████████████████████████████████████████████████████████████████████████████████████████████████████████████████████████████| 117/117 [00:00<00:00, 613.90it/s, loss=5.6]\n"
     ]
    },
    {
     "name": "stdout",
     "output_type": "stream",
     "text": [
      "Ave Loss: 5.603461322621403\n",
      "Epoch: 73\n"
     ]
    },
    {
     "name": "stderr",
     "output_type": "stream",
     "text": [
      "100%|█████████████████████████████████████████████████████████████████████████████████████████████████████████████████████████████████████████████████████████████████| 117/117 [00:00<00:00, 598.58it/s, loss=5.6]\n"
     ]
    },
    {
     "name": "stdout",
     "output_type": "stream",
     "text": [
      "Ave Loss: 5.603443031637077\n",
      "Epoch: 74\n"
     ]
    },
    {
     "name": "stderr",
     "output_type": "stream",
     "text": [
      "100%|█████████████████████████████████████████████████████████████████████████████████████████████████████████████████████████████████████████████████████████████████| 117/117 [00:00<00:00, 578.66it/s, loss=5.6]\n"
     ]
    },
    {
     "name": "stdout",
     "output_type": "stream",
     "text": [
      "Ave Loss: 5.603424304570908\n",
      "Epoch: 75\n"
     ]
    },
    {
     "name": "stderr",
     "output_type": "stream",
     "text": [
      "100%|█████████████████████████████████████████████████████████████████████████████████████████████████████████████████████████████████████████████████████████████████| 117/117 [00:00<00:00, 617.75it/s, loss=5.6]\n"
     ]
    },
    {
     "name": "stdout",
     "output_type": "stream",
     "text": [
      "Ave Loss: 5.603405121045235\n",
      "Epoch: 76\n"
     ]
    },
    {
     "name": "stderr",
     "output_type": "stream",
     "text": [
      "100%|█████████████████████████████████████████████████████████████████████████████████████████████████████████████████████████████████████████████████████████████████| 117/117 [00:00<00:00, 624.55it/s, loss=5.6]\n"
     ]
    },
    {
     "name": "stdout",
     "output_type": "stream",
     "text": [
      "Ave Loss: 5.603385595174936\n",
      "Epoch: 77\n"
     ]
    },
    {
     "name": "stderr",
     "output_type": "stream",
     "text": [
      "100%|█████████████████████████████████████████████████████████████████████████████████████████████████████████████████████████████████████████████████████████████████| 117/117 [00:00<00:00, 600.24it/s, loss=5.6]\n"
     ]
    },
    {
     "name": "stdout",
     "output_type": "stream",
     "text": [
      "Ave Loss: 5.603365510956854\n",
      "Epoch: 78\n"
     ]
    },
    {
     "name": "stderr",
     "output_type": "stream",
     "text": [
      "100%|█████████████████████████████████████████████████████████████████████████████████████████████████████████████████████████████████████████████████████████████████| 117/117 [00:00<00:00, 622.42it/s, loss=5.6]\n"
     ]
    },
    {
     "name": "stdout",
     "output_type": "stream",
     "text": [
      "Ave Loss: 5.603345104771802\n",
      "Epoch: 79\n"
     ]
    },
    {
     "name": "stderr",
     "output_type": "stream",
     "text": [
      "100%|█████████████████████████████████████████████████████████████████████████████████████████████████████████████████████████████████████████████████████████████████| 117/117 [00:00<00:00, 594.96it/s, loss=5.6]\n"
     ]
    },
    {
     "name": "stdout",
     "output_type": "stream",
     "text": [
      "Ave Loss: 5.603324396997436\n",
      "Epoch: 80\n"
     ]
    },
    {
     "name": "stderr",
     "output_type": "stream",
     "text": [
      "100%|█████████████████████████████████████████████████████████████████████████████████████████████████████████████████████████████████████████████████████████████████| 117/117 [00:00<00:00, 638.47it/s, loss=5.6]\n"
     ]
    },
    {
     "name": "stdout",
     "output_type": "stream",
     "text": [
      "Ave Loss: 5.603303155328473\n",
      "Epoch: 81\n"
     ]
    },
    {
     "name": "stderr",
     "output_type": "stream",
     "text": [
      "100%|█████████████████████████████████████████████████████████████████████████████████████████████████████████████████████████████████████████████████████████████████| 117/117 [00:00<00:00, 642.07it/s, loss=5.6]\n"
     ]
    },
    {
     "name": "stdout",
     "output_type": "stream",
     "text": [
      "Ave Loss: 5.603281530559572\n",
      "Epoch: 82\n"
     ]
    },
    {
     "name": "stderr",
     "output_type": "stream",
     "text": [
      "100%|█████████████████████████████████████████████████████████████████████████████████████████████████████████████████████████████████████████████████████████████████| 117/117 [00:00<00:00, 634.62it/s, loss=5.6]\n"
     ]
    },
    {
     "name": "stdout",
     "output_type": "stream",
     "text": [
      "Ave Loss: 5.603259600125826\n",
      "Epoch: 83\n"
     ]
    },
    {
     "name": "stderr",
     "output_type": "stream",
     "text": [
      "100%|█████████████████████████████████████████████████████████████████████████████████████████████████████████████████████████████████████████████████████████████████| 117/117 [00:00<00:00, 621.02it/s, loss=5.6]\n"
     ]
    },
    {
     "name": "stdout",
     "output_type": "stream",
     "text": [
      "Ave Loss: 5.603237168401734\n",
      "Epoch: 84\n"
     ]
    },
    {
     "name": "stderr",
     "output_type": "stream",
     "text": [
      "100%|█████████████████████████████████████████████████████████████████████████████████████████████████████████████████████████████████████████████████████████████████| 117/117 [00:00<00:00, 639.69it/s, loss=5.6]\n"
     ]
    },
    {
     "name": "stdout",
     "output_type": "stream",
     "text": [
      "Ave Loss: 5.603214227236235\n",
      "Epoch: 85\n"
     ]
    },
    {
     "name": "stderr",
     "output_type": "stream",
     "text": [
      "100%|█████████████████████████████████████████████████████████████████████████████████████████████████████████████████████████████████████████████████████████████████| 117/117 [00:00<00:00, 600.47it/s, loss=5.6]\n"
     ]
    },
    {
     "name": "stdout",
     "output_type": "stream",
     "text": [
      "Ave Loss: 5.6031906299102\n",
      "Epoch: 86\n"
     ]
    },
    {
     "name": "stderr",
     "output_type": "stream",
     "text": [
      "100%|█████████████████████████████████████████████████████████████████████████████████████████████████████████████████████████████████████████████████████████████████| 117/117 [00:00<00:00, 631.57it/s, loss=5.6]\n"
     ]
    },
    {
     "name": "stdout",
     "output_type": "stream",
     "text": [
      "Ave Loss: 5.603166906242697\n",
      "Epoch: 87\n"
     ]
    },
    {
     "name": "stderr",
     "output_type": "stream",
     "text": [
      "100%|█████████████████████████████████████████████████████████████████████████████████████████████████████████████████████████████████████████████████████████████████| 117/117 [00:00<00:00, 611.57it/s, loss=5.6]\n"
     ]
    },
    {
     "name": "stdout",
     "output_type": "stream",
     "text": [
      "Ave Loss: 5.603142828003973\n",
      "Epoch: 88\n"
     ]
    },
    {
     "name": "stderr",
     "output_type": "stream",
     "text": [
      "100%|█████████████████████████████████████████████████████████████████████████████████████████████████████████████████████████████████████████████████████████████████| 117/117 [00:00<00:00, 618.28it/s, loss=5.6]\n"
     ]
    },
    {
     "name": "stdout",
     "output_type": "stream",
     "text": [
      "Ave Loss: 5.6031186478769675\n",
      "Epoch: 89\n"
     ]
    },
    {
     "name": "stderr",
     "output_type": "stream",
     "text": [
      "100%|█████████████████████████████████████████████████████████████████████████████████████████████████████████████████████████████████████████████████████████████████| 117/117 [00:00<00:00, 646.02it/s, loss=5.6]\n"
     ]
    },
    {
     "name": "stdout",
     "output_type": "stream",
     "text": [
      "Ave Loss: 5.603094003139398\n",
      "Epoch: 90\n"
     ]
    },
    {
     "name": "stderr",
     "output_type": "stream",
     "text": [
      "100%|█████████████████████████████████████████████████████████████████████████████████████████████████████████████████████████████████████████████████████████████████| 117/117 [00:00<00:00, 611.38it/s, loss=5.6]\n"
     ]
    },
    {
     "name": "stdout",
     "output_type": "stream",
     "text": [
      "Ave Loss: 5.603069280966734\n",
      "Epoch: 91\n"
     ]
    },
    {
     "name": "stderr",
     "output_type": "stream",
     "text": [
      "100%|█████████████████████████████████████████████████████████████████████████████████████████████████████████████████████████████████████████████████████████████████| 117/117 [00:00<00:00, 646.74it/s, loss=5.6]\n"
     ]
    },
    {
     "name": "stdout",
     "output_type": "stream",
     "text": [
      "Ave Loss: 5.603044216449444\n",
      "Epoch: 92\n"
     ]
    },
    {
     "name": "stderr",
     "output_type": "stream",
     "text": [
      "100%|█████████████████████████████████████████████████████████████████████████████████████████████████████████████████████████████████████████████████████████████████| 117/117 [00:00<00:00, 631.30it/s, loss=5.6]\n"
     ]
    },
    {
     "name": "stdout",
     "output_type": "stream",
     "text": [
      "Ave Loss: 5.603019021515154\n",
      "Epoch: 93\n"
     ]
    },
    {
     "name": "stderr",
     "output_type": "stream",
     "text": [
      "100%|█████████████████████████████████████████████████████████████████████████████████████████████████████████████████████████████████████████████████████████████████| 117/117 [00:00<00:00, 614.54it/s, loss=5.6]\n"
     ]
    },
    {
     "name": "stdout",
     "output_type": "stream",
     "text": [
      "Ave Loss: 5.602993663559612\n",
      "Epoch: 94\n"
     ]
    },
    {
     "name": "stderr",
     "output_type": "stream",
     "text": [
      "100%|█████████████████████████████████████████████████████████████████████████████████████████████████████████████████████████████████████████████████████████████████| 117/117 [00:00<00:00, 601.08it/s, loss=5.6]\n"
     ]
    },
    {
     "name": "stdout",
     "output_type": "stream",
     "text": [
      "Ave Loss: 5.602968215942383\n",
      "Epoch: 95\n"
     ]
    },
    {
     "name": "stderr",
     "output_type": "stream",
     "text": [
      "100%|█████████████████████████████████████████████████████████████████████████████████████████████████████████████████████████████████████████████████████████████████| 117/117 [00:00<00:00, 644.77it/s, loss=5.6]\n"
     ]
    },
    {
     "name": "stdout",
     "output_type": "stream",
     "text": [
      "Ave Loss: 5.602942491189028\n",
      "Epoch: 96\n"
     ]
    },
    {
     "name": "stderr",
     "output_type": "stream",
     "text": [
      "100%|█████████████████████████████████████████████████████████████████████████████████████████████████████████████████████████████████████████████████████████████████| 117/117 [00:00<00:00, 616.09it/s, loss=5.6]\n"
     ]
    },
    {
     "name": "stdout",
     "output_type": "stream",
     "text": [
      "Ave Loss: 5.602916786813329\n",
      "Epoch: 97\n"
     ]
    },
    {
     "name": "stderr",
     "output_type": "stream",
     "text": [
      "100%|█████████████████████████████████████████████████████████████████████████████████████████████████████████████████████████████████████████████████████████████████| 117/117 [00:00<00:00, 602.43it/s, loss=5.6]\n"
     ]
    },
    {
     "name": "stdout",
     "output_type": "stream",
     "text": [
      "Ave Loss: 5.602890972398285\n",
      "Epoch: 98\n"
     ]
    },
    {
     "name": "stderr",
     "output_type": "stream",
     "text": [
      "100%|█████████████████████████████████████████████████████████████████████████████████████████████████████████████████████████████████████████████████████████████████| 117/117 [00:00<00:00, 615.34it/s, loss=5.6]\n"
     ]
    },
    {
     "name": "stdout",
     "output_type": "stream",
     "text": [
      "Ave Loss: 5.602865113152398\n",
      "Epoch: 99\n"
     ]
    },
    {
     "name": "stderr",
     "output_type": "stream",
     "text": [
      "100%|█████████████████████████████████████████████████████████████████████████████████████████████████████████████████████████████████████████████████████████████████| 117/117 [00:00<00:00, 587.38it/s, loss=5.6]"
     ]
    },
    {
     "name": "stdout",
     "output_type": "stream",
     "text": [
      "Ave Loss: 5.602839050129948\n"
     ]
    },
    {
     "name": "stderr",
     "output_type": "stream",
     "text": [
      "\n"
     ]
    }
   ],
   "source": [
    "epochs = 100\n",
    "\n",
    "average_losses = []\n",
    "\n",
    "for epoch in range(epochs):\n",
    "    print(\"Epoch: {}\".format(epoch))\n",
    "    ave_loss = train_fn(train_loader, model, optimizer, criterion, device)\n",
    "    \n",
    "    average_losses.append(ave_loss)\n",
    "        \n",
    "    print(\"Ave Loss: {}\".format(ave_loss))"
   ]
  },
  {
   "cell_type": "code",
   "execution_count": 23,
   "id": "eb33ac30",
   "metadata": {},
   "outputs": [
    {
     "name": "stderr",
     "output_type": "stream",
     "text": [
      "/tmp/ipykernel_13261/295436269.py:13: UserWarning: Creating a tensor from a list of numpy.ndarrays is extremely slow. Please consider converting the list to a single numpy.ndarray with numpy.array() before converting to a tensor. (Triggered internally at ../torch/csrc/utils/tensor_new.cpp:230.)\n",
      "  initial_input = torch.tensor([np.array([x_vector]).ravel()]).float()\n"
     ]
    },
    {
     "data": {
      "text/plain": [
       "array([0.00578878, 0.00566824, 0.00318246, 0.00346632, 0.00318246,\n",
       "       0.0034072 , 0.00319087, 0.00318246, 0.00318246, 0.00750232,\n",
       "       0.00318246, 0.00700253, 0.00364945, 0.00420752, 0.0055394 ,\n",
       "       0.00377851, 0.00324105, 0.00502851, 0.00531486, 0.00353369,\n",
       "       0.00318247, 0.00318246, 0.00318246, 0.00319051, 0.00319679,\n",
       "       0.00716884, 0.00396632, 0.0037801 , 0.00318246, 0.00796573,\n",
       "       0.00358039, 0.00323893, 0.00319881, 0.00467794, 0.0064049 ,\n",
       "       0.00318246, 0.00323613, 0.00321981, 0.00323817, 0.00318246,\n",
       "       0.00318246, 0.00318247, 0.00353421, 0.00318246, 0.00322034,\n",
       "       0.00370002, 0.00318563, 0.00318246, 0.00318246, 0.00340963,\n",
       "       0.00318246, 0.00318246, 0.00318246, 0.00775625, 0.00321245,\n",
       "       0.00352292, 0.00318246, 0.00318246, 0.00772673, 0.00318247,\n",
       "       0.00318765, 0.00323046, 0.00370215, 0.00337324, 0.00330123,\n",
       "       0.00340257, 0.00318246, 0.00325388, 0.00381147, 0.00318246,\n",
       "       0.00345434, 0.00790265, 0.00318246, 0.00318247, 0.00318986,\n",
       "       0.00318494, 0.00319966, 0.00321413, 0.0031884 , 0.00318246,\n",
       "       0.00339462, 0.00440371, 0.00318247, 0.00325531, 0.0046892 ,\n",
       "       0.00318396, 0.00318246, 0.00318256, 0.00318246, 0.00337679,\n",
       "       0.00322996, 0.00318246, 0.00321863, 0.00330823, 0.00318724,\n",
       "       0.00318841, 0.00318246, 0.00319676, 0.00342467, 0.00319172,\n",
       "       0.00320374, 0.00318246, 0.00318247, 0.00319914, 0.0031855 ,\n",
       "       0.00318246, 0.00324453, 0.00318912, 0.00320075, 0.00803327,\n",
       "       0.00321907, 0.00318246, 0.00352563, 0.00322149, 0.00318246,\n",
       "       0.00318246, 0.00318246, 0.00318246, 0.00318246, 0.00318246,\n",
       "       0.0032194 , 0.00329422, 0.00320753, 0.00318688, 0.00408548,\n",
       "       0.00318246, 0.00320565, 0.00322329, 0.00319693, 0.00320297,\n",
       "       0.00318246, 0.00318246, 0.00361081, 0.0065668 , 0.00426058,\n",
       "       0.00318246, 0.00318246, 0.00435811, 0.003547  , 0.00332344,\n",
       "       0.00318246, 0.0032066 , 0.00318246, 0.00444424, 0.00318246,\n",
       "       0.00318246, 0.00318246, 0.00318527, 0.00773783, 0.00322616,\n",
       "       0.0064188 , 0.00318246, 0.00352235, 0.00345172, 0.00318246,\n",
       "       0.00400752, 0.00318246, 0.00410886, 0.00328172, 0.00394963,\n",
       "       0.00319185, 0.00318246, 0.00321255, 0.00318907, 0.00318246,\n",
       "       0.00318246, 0.00388837, 0.00320084, 0.00395871, 0.00648452,\n",
       "       0.00319115, 0.0035254 , 0.00318246, 0.00318604, 0.00371427,\n",
       "       0.00318624, 0.00325366, 0.00319011, 0.00320732, 0.00735245,\n",
       "       0.00322452, 0.00403012, 0.00318246, 0.00318248, 0.00731437,\n",
       "       0.00318606, 0.00747056, 0.0033089 , 0.00324051, 0.00318246,\n",
       "       0.00368657, 0.00439814, 0.00318246, 0.00393969, 0.00319921,\n",
       "       0.00320956, 0.00324128, 0.00321454, 0.00321199, 0.00318797,\n",
       "       0.00318564, 0.00337789, 0.00326309, 0.00325302, 0.00319018,\n",
       "       0.00319869, 0.00319718, 0.00318246, 0.00318246, 0.0031825 ,\n",
       "       0.00348387, 0.00318246, 0.00321543, 0.00326187, 0.00318246,\n",
       "       0.00318246, 0.00338925, 0.00332948, 0.00319657, 0.00318246,\n",
       "       0.00326628, 0.00318246, 0.00318386, 0.0033195 , 0.00318531,\n",
       "       0.0032297 , 0.00318335, 0.00430355, 0.00382142, 0.00318246,\n",
       "       0.00320144, 0.00324536, 0.00330051, 0.00319517, 0.00318246,\n",
       "       0.00318247, 0.00771069, 0.00782035, 0.00318246, 0.00318681,\n",
       "       0.00318247, 0.00345907, 0.00380554, 0.00318246, 0.00318256,\n",
       "       0.00318246, 0.00319071, 0.00324338, 0.00324786, 0.00318246,\n",
       "       0.0058109 , 0.00318246, 0.00318246, 0.00318801, 0.00318246,\n",
       "       0.00326541, 0.00325905, 0.00318345, 0.00318246, 0.00336381,\n",
       "       0.00331023, 0.00702853, 0.00529248, 0.00430658, 0.00323724,\n",
       "       0.00386648, 0.00347357, 0.00319066, 0.00318246, 0.0047829 ,\n",
       "       0.00318752, 0.00417396], dtype=float32)"
      ]
     },
     "execution_count": 23,
     "metadata": {},
     "output_type": "execute_result"
    }
   ],
   "source": [
    "poem = ['I', 'could', 'dream']\n",
    "\n",
    "x_ints = [word_indices[item] for item in poem]\n",
    "\n",
    "x_vector = []\n",
    "\n",
    "for item in x_ints:\n",
    "    x_item = np.zeros(len(unique_words))\n",
    "    x_item[item] = 1\n",
    "    \n",
    "    x_vector.append(x_item)\n",
    "\n",
    "initial_input = torch.tensor([np.array([x_vector]).ravel()]).float()\n",
    "\n",
    "output = model(initial_input)[0].detach().cpu().numpy()\n",
    "\n",
    "output"
   ]
  },
  {
   "cell_type": "code",
   "execution_count": 24,
   "id": "3fdfb903",
   "metadata": {},
   "outputs": [
    {
     "data": {
      "text/plain": [
       "<BarContainer object of 272 artists>"
      ]
     },
     "execution_count": 24,
     "metadata": {},
     "output_type": "execute_result"
    },
    {
     "data": {
      "image/png": "[encoded data removed]",
      "text/plain": [
       "<Figure size 640x480 with 1 Axes>"
      ]
     },
     "metadata": {},
     "output_type": "display_data"
    }
   ],
   "source": [
    "import matplotlib.pyplot as plt\n",
    "\n",
    "plt.bar(range(len(output)), output)"
   ]
  },
  {
   "cell_type": "code",
   "execution_count": 25,
   "id": "36306dbb",
   "metadata": {},
   "outputs": [
    {
     "data": {
      "text/plain": [
       "'its'"
      ]
     },
     "execution_count": 25,
     "metadata": {},
     "output_type": "execute_result"
    }
   ],
   "source": [
    "index = np.where(np.random.multinomial(1, output) == 1)[0][0]\n",
    "\n",
    "word1 = indices_words[index]\n",
    "\n",
    "word1"
   ]
  },
  {
   "cell_type": "code",
   "execution_count": 26,
   "id": "4f9bdb6e",
   "metadata": {},
   "outputs": [],
   "source": [
    "poem.append(word1)"
   ]
  },
  {
   "cell_type": "code",
   "execution_count": 27,
   "id": "298ed8fa",
   "metadata": {},
   "outputs": [
    {
     "data": {
      "text/plain": [
       "'hour'"
      ]
     },
     "execution_count": 27,
     "metadata": {},
     "output_type": "execute_result"
    }
   ],
   "source": [
    "phrase = ['could', 'dream', word1]\n",
    "\n",
    "x_ints = [word_indices[item] for item in phrase]\n",
    "\n",
    "x_vector = []\n",
    "\n",
    "for item in x_ints:\n",
    "    x_item = np.zeros(len(unique_words))\n",
    "    x_item[item] = 1\n",
    "    \n",
    "    x_vector.append(x_item)\n",
    "\n",
    "initial_input = torch.tensor([np.array([x_vector]).ravel()]).float()\n",
    "\n",
    "output = model(initial_input)[0].detach().cpu().numpy()\n",
    "\n",
    "index = np.where(np.random.multinomial(1, output) == 1)[0][0]\n",
    "\n",
    "word2 = indices_words[index]\n",
    "\n",
    "word2"
   ]
  },
  {
   "cell_type": "code",
   "execution_count": 28,
   "id": "3d3ee2a2",
   "metadata": {},
   "outputs": [],
   "source": [
    "poem.append(word2)"
   ]
  },
  {
   "cell_type": "code",
   "execution_count": 29,
   "id": "d95e68b3",
   "metadata": {},
   "outputs": [
    {
     "data": {
      "text/plain": [
       "'Truth'"
      ]
     },
     "execution_count": 29,
     "metadata": {},
     "output_type": "execute_result"
    }
   ],
   "source": [
    "phrase = ['dream', word1, word2]\n",
    "\n",
    "x_ints = [word_indices[item] for item in phrase]\n",
    "\n",
    "x_vector = []\n",
    "\n",
    "for item in x_ints:\n",
    "    x_item = np.zeros(len(unique_words))\n",
    "    x_item[item] = 1\n",
    "    \n",
    "    x_vector.append(x_item)\n",
    "\n",
    "initial_input = torch.tensor([np.array([x_vector]).ravel()]).float()\n",
    "\n",
    "output = model(initial_input)[0].detach().cpu().numpy()\n",
    "\n",
    "index = np.where(np.random.multinomial(1, output) == 1)[0][0]\n",
    "\n",
    "word3 = indices_words[index]\n",
    "\n",
    "word3"
   ]
  },
  {
   "cell_type": "code",
   "execution_count": 30,
   "id": "8fec3c66",
   "metadata": {},
   "outputs": [],
   "source": [
    "poem.append(word3)"
   ]
  },
  {
   "cell_type": "code",
   "execution_count": 31,
   "id": "7eab78bd",
   "metadata": {},
   "outputs": [
    {
     "data": {
      "text/plain": [
       "'my'"
      ]
     },
     "execution_count": 31,
     "metadata": {},
     "output_type": "execute_result"
    }
   ],
   "source": [
    "phrase = [word1, word2, word3]\n",
    "\n",
    "x_ints = [word_indices[item] for item in phrase]\n",
    "\n",
    "x_vector = []\n",
    "\n",
    "for item in x_ints:\n",
    "    x_item = np.zeros(len(unique_words))\n",
    "    x_item[item] = 1\n",
    "    \n",
    "    x_vector.append(x_item)\n",
    "\n",
    "initial_input = torch.tensor([np.array([x_vector]).ravel()]).float()\n",
    "\n",
    "output = model(initial_input)[0].detach().cpu().numpy()\n",
    "\n",
    "index = np.where(np.random.multinomial(1, output) == 1)[0][0]\n",
    "\n",
    "word4 = indices_words[index]\n",
    "\n",
    "word4"
   ]
  },
  {
   "cell_type": "code",
   "execution_count": 32,
   "id": "c806cc95",
   "metadata": {},
   "outputs": [],
   "source": [
    "poem.append(word4)"
   ]
  },
  {
   "cell_type": "code",
   "execution_count": 33,
   "id": "d16d7d8d",
   "metadata": {},
   "outputs": [
    {
     "data": {
      "text/plain": [
       "'semblance'"
      ]
     },
     "execution_count": 33,
     "metadata": {},
     "output_type": "execute_result"
    }
   ],
   "source": [
    "phrase = [word2, word3, word4]\n",
    "\n",
    "x_ints = [word_indices[item] for item in phrase]\n",
    "\n",
    "x_vector = []\n",
    "\n",
    "for item in x_ints:\n",
    "    x_item = np.zeros(len(unique_words))\n",
    "    x_item[item] = 1\n",
    "    \n",
    "    x_vector.append(x_item)\n",
    "\n",
    "initial_input = torch.tensor([np.array([x_vector]).ravel()]).float()\n",
    "\n",
    "output = model(initial_input)[0].detach().cpu().numpy()\n",
    "\n",
    "index = np.where(np.random.multinomial(1, output) == 1)[0][0]\n",
    "\n",
    "word5 = indices_words[index]\n",
    "\n",
    "word5"
   ]
  },
  {
   "cell_type": "code",
   "execution_count": 34,
   "id": "c5ae9515",
   "metadata": {},
   "outputs": [],
   "source": [
    "poem.append(word5)"
   ]
  },
  {
   "cell_type": "code",
   "execution_count": 35,
   "id": "9790094c",
   "metadata": {},
   "outputs": [
    {
     "data": {
      "text/plain": [
       "';'"
      ]
     },
     "execution_count": 35,
     "metadata": {},
     "output_type": "execute_result"
    }
   ],
   "source": [
    "phrase = [word3, word4, word5]\n",
    "\n",
    "x_ints = [word_indices[item] for item in phrase]\n",
    "\n",
    "x_vector = []\n",
    "\n",
    "for item in x_ints:\n",
    "    x_item = np.zeros(len(unique_words))\n",
    "    x_item[item] = 1\n",
    "    \n",
    "    x_vector.append(x_item)\n",
    "\n",
    "initial_input = torch.tensor([np.array([x_vector]).ravel()]).float()\n",
    "\n",
    "output = model(initial_input)[0].detach().cpu().numpy()\n",
    "\n",
    "index = np.where(np.random.multinomial(1, output) == 1)[0][0]\n",
    "\n",
    "word6 = indices_words[index]\n",
    "\n",
    "word6"
   ]
  },
  {
   "cell_type": "code",
   "execution_count": 36,
   "id": "a790e826",
   "metadata": {},
   "outputs": [],
   "source": [
    "poem.append(word6)"
   ]
  },
  {
   "cell_type": "code",
   "execution_count": 37,
   "id": "25134321",
   "metadata": {},
   "outputs": [
    {
     "data": {
      "text/plain": [
       "['I', 'could', 'dream', 'its', 'hour', 'Truth', 'my', 'semblance', ';']"
      ]
     },
     "execution_count": 37,
     "metadata": {},
     "output_type": "execute_result"
    }
   ],
   "source": [
    "poem"
   ]
  }
 ],
 "metadata": {
  "kernelspec": {
   "display_name": "Python 3 (ipykernel)",
   "language": "python",
   "name": "python3"
  },
  "language_info": {
   "codemirror_mode": {
    "name": "ipython",
    "version": 3
   },
   "file_extension": ".py",
   "mimetype": "text/x-python",
   "name": "python",
   "nbconvert_exporter": "python",
   "pygments_lexer": "ipython3",
   "version": "3.10.7"
  }
 },
 "nbformat": 4,
 "nbformat_minor": 5
}
