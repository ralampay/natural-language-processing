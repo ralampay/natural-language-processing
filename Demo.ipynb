{
 "cells": [
  {
   "cell_type": "code",
   "execution_count": 1,
   "id": "a5cc4fde",
   "metadata": {},
   "outputs": [
    {
     "name": "stderr",
     "output_type": "stream",
     "text": [
      "[nltk_data] Downloading package punkt to /home/ralampay/nltk_data...\n",
      "[nltk_data]   Package punkt is already up-to-date!\n",
      "[nltk_data] Downloading package wordnet to /home/ralampay/nltk_data...\n",
      "[nltk_data]   Package wordnet is already up-to-date!\n"
     ]
    },
    {
     "data": {
      "text/plain": [
       "True"
      ]
     },
     "execution_count": 1,
     "metadata": {},
     "output_type": "execute_result"
    }
   ],
   "source": [
    "import re\n",
    "import numpy as np\n",
    "import nltk\n",
    "from nltk.tokenize import word_tokenize\n",
    "from nltk.stem import PorterStemmer, WordNetLemmatizer\n",
    "from nltk.corpus import stopwords\n",
    "nltk.download('punkt')\n",
    "nltk.download('wordnet')"
   ]
  },
  {
   "cell_type": "code",
   "execution_count": 3,
   "id": "dbc67170",
   "metadata": {},
   "outputs": [
    {
     "data": {
      "text/plain": [
       "'Once upon a time, there was a boy named Mike\\nHe was raised in the hood, life was never quite\\nGrowing up, he faced many struggles and strife\\nBut through it all, he had one love in his life\\n\\nRap music was his escape from reality\\nThe beats and lyrics helped him to see\\nA world beyond his troubled neighborhood\\nHe knew that with hard work, he could change his mood\\n\\nHe started writing rhymes and practicing his flow\\nIn the mirror, he would rap and watch himself grow\\nHe knew that if he could just make it to the top\\nHe could change his life, and make a better stop\\n\\nOne day, he had the chance to perform on stage\\nIn front of a crowd, he killed it, he killed it with rage\\nHe had finally made it, he had achieved his dream\\nAnd now he is a successful rapper, or so it seems\\n\\nHe never forgot where he came from, and he never will\\nHe always remember the struggles that he had to fulfill\\nHe is now a role model to kids in the hood\\nShowing them that with hard work, they too could\\n\\nRise above their circumstances and chase their dreams\\nAnd make a better life, or so it seems\\n\\nThe end\\n'"
      ]
     },
     "execution_count": 3,
     "metadata": {},
     "output_type": "execute_result"
    }
   ],
   "source": [
    "filename = \"speech.txt\"\n",
    "f = open(filename, 'r')\n",
    "\n",
    "raw_text = f.read()\n",
    "\n",
    "raw_text"
   ]
  },
  {
   "cell_type": "code",
   "execution_count": 4,
   "id": "9bd91c7c",
   "metadata": {},
   "outputs": [
    {
     "data": {
      "text/plain": [
       "'Once upon a time, there was a boy named Mike\\nHe was raised in the hood, life was never quite\\nGrowing up, he faced many struggles and strife\\nBut through it all, he had one love in his life\\n\\nRap music was his escape from reality\\nThe beats and lyrics helped him to see\\nA world beyond his troubled neighborhood\\nHe knew that with hard work, he could change his mood\\n\\nHe started writing rhymes and practicing his flow\\nIn the mirror, he would rap and watch himself grow\\nHe knew that if he could just make it to the top\\nHe could change his life, and make a better stop\\n\\nOne day, he had the chance to perform on stage\\nIn front of a crowd, he killed it, he killed it with rage\\nHe had finally made it, he had achieved his dream\\nAnd now he is a successful rapper, or so it seems\\n\\nHe never forgot where he came from, and he never will\\nHe always remember the struggles that he had to fulfill\\nHe is now a role model to kids in the hood\\nShowing them that with hard work, they too could\\n\\nRise above their circumstances and chase their dreams\\nAnd make a better life, or so it seems\\n\\nThe end\\n'"
      ]
     },
     "execution_count": 4,
     "metadata": {},
     "output_type": "execute_result"
    }
   ],
   "source": [
    "processed_text = re.sub(r'[^\\x00-\\x7f]', r'', raw_text)\n",
    "\n",
    "processed_text"
   ]
  },
  {
   "cell_type": "code",
   "execution_count": 8,
   "id": "5cbf3a49",
   "metadata": {},
   "outputs": [
    {
     "data": {
      "text/plain": [
       "230"
      ]
     },
     "execution_count": 8,
     "metadata": {},
     "output_type": "execute_result"
    }
   ],
   "source": [
    "word_tokens = word_tokenize(processed_text)\n",
    "\n",
    "len(word_tokens)"
   ]
  },
  {
   "cell_type": "code",
   "execution_count": 7,
   "id": "2183cc53",
   "metadata": {},
   "outputs": [
    {
     "data": {
      "text/plain": [
       "121"
      ]
     },
     "execution_count": 7,
     "metadata": {},
     "output_type": "execute_result"
    }
   ],
   "source": [
    "unique_words = list(set(word_tokens))\n",
    "\n",
    "len(unique_words)"
   ]
  },
  {
   "cell_type": "code",
   "execution_count": 14,
   "id": "1f45b235",
   "metadata": {},
   "outputs": [
    {
     "data": {
      "text/plain": [
       "[(',', 15),\n",
       " ('he', 13),\n",
       " ('He', 9),\n",
       " ('a', 7),\n",
       " ('and', 7),\n",
       " ('it', 7),\n",
       " ('his', 7),\n",
       " ('the', 6),\n",
       " ('had', 5),\n",
       " ('to', 5),\n",
       " ('was', 4),\n",
       " ('life', 4),\n",
       " ('that', 4),\n",
       " ('could', 4),\n",
       " ('in', 3),\n",
       " ('never', 3),\n",
       " ('with', 3),\n",
       " ('make', 3),\n",
       " ('hood', 2),\n",
       " ('struggles', 2),\n",
       " ('from', 2),\n",
       " ('The', 2),\n",
       " ('knew', 2),\n",
       " ('hard', 2),\n",
       " ('work', 2),\n",
       " ('change', 2),\n",
       " ('In', 2),\n",
       " ('better', 2),\n",
       " ('killed', 2),\n",
       " ('And', 2),\n",
       " ('now', 2),\n",
       " ('is', 2),\n",
       " ('or', 2),\n",
       " ('so', 2),\n",
       " ('seems', 2),\n",
       " ('their', 2),\n",
       " ('Once', 1),\n",
       " ('upon', 1),\n",
       " ('time', 1),\n",
       " ('there', 1),\n",
       " ('boy', 1),\n",
       " ('named', 1),\n",
       " ('Mike', 1),\n",
       " ('raised', 1),\n",
       " ('quite', 1),\n",
       " ('Growing', 1),\n",
       " ('up', 1),\n",
       " ('faced', 1),\n",
       " ('many', 1),\n",
       " ('strife', 1),\n",
       " ('But', 1),\n",
       " ('through', 1),\n",
       " ('all', 1),\n",
       " ('one', 1),\n",
       " ('love', 1),\n",
       " ('Rap', 1),\n",
       " ('music', 1),\n",
       " ('escape', 1),\n",
       " ('reality', 1),\n",
       " ('beats', 1),\n",
       " ('lyrics', 1),\n",
       " ('helped', 1),\n",
       " ('him', 1),\n",
       " ('see', 1),\n",
       " ('A', 1),\n",
       " ('world', 1),\n",
       " ('beyond', 1),\n",
       " ('troubled', 1),\n",
       " ('neighborhood', 1),\n",
       " ('mood', 1),\n",
       " ('started', 1),\n",
       " ('writing', 1),\n",
       " ('rhymes', 1),\n",
       " ('practicing', 1),\n",
       " ('flow', 1),\n",
       " ('mirror', 1),\n",
       " ('would', 1),\n",
       " ('rap', 1),\n",
       " ('watch', 1),\n",
       " ('himself', 1),\n",
       " ('grow', 1),\n",
       " ('if', 1),\n",
       " ('just', 1),\n",
       " ('top', 1),\n",
       " ('stop', 1),\n",
       " ('One', 1),\n",
       " ('day', 1),\n",
       " ('chance', 1),\n",
       " ('perform', 1),\n",
       " ('on', 1),\n",
       " ('stage', 1),\n",
       " ('front', 1),\n",
       " ('of', 1),\n",
       " ('crowd', 1),\n",
       " ('rage', 1),\n",
       " ('finally', 1),\n",
       " ('made', 1),\n",
       " ('achieved', 1),\n",
       " ('dream', 1),\n",
       " ('successful', 1),\n",
       " ('rapper', 1),\n",
       " ('forgot', 1),\n",
       " ('where', 1),\n",
       " ('came', 1),\n",
       " ('will', 1),\n",
       " ('always', 1),\n",
       " ('remember', 1),\n",
       " ('fulfill', 1),\n",
       " ('role', 1),\n",
       " ('model', 1),\n",
       " ('kids', 1),\n",
       " ('Showing', 1),\n",
       " ('them', 1),\n",
       " ('they', 1),\n",
       " ('too', 1),\n",
       " ('Rise', 1),\n",
       " ('above', 1),\n",
       " ('circumstances', 1),\n",
       " ('chase', 1),\n",
       " ('dreams', 1),\n",
       " ('end', 1)]"
      ]
     },
     "execution_count": 14,
     "metadata": {},
     "output_type": "execute_result"
    }
   ],
   "source": [
    "from collections import Counter\n",
    "\n",
    "word_count = Counter(word_tokens)\n",
    "\n",
    "word_count.most_common()"
   ]
  },
  {
   "cell_type": "code",
   "execution_count": null,
   "id": "8f766f7e",
   "metadata": {},
   "outputs": [],
   "source": []
  }
 ],
 "metadata": {
  "kernelspec": {
   "display_name": "Python 3 (ipykernel)",
   "language": "python",
   "name": "python3"
  },
  "language_info": {
   "codemirror_mode": {
    "name": "ipython",
    "version": 3
   },
   "file_extension": ".py",
   "mimetype": "text/x-python",
   "name": "python",
   "nbconvert_exporter": "python",
   "pygments_lexer": "ipython3",
   "version": "3.10.7"
  }
 },
 "nbformat": 4,
 "nbformat_minor": 5
}
