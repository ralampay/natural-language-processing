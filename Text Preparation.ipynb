{
 "cells": [
  {
   "cell_type": "code",
   "execution_count": 1,
   "id": "60a991b2",
   "metadata": {},
   "outputs": [
    {
     "name": "stderr",
     "output_type": "stream",
     "text": [
      "[nltk_data] Downloading package punkt to /home/ralampay/nltk_data...\n",
      "[nltk_data]   Package punkt is already up-to-date!\n",
      "[nltk_data] Downloading package wordnet to /home/ralampay/nltk_data...\n",
      "[nltk_data]   Package wordnet is already up-to-date!\n"
     ]
    },
    {
     "data": {
      "text/plain": [
       "True"
      ]
     },
     "execution_count": 1,
     "metadata": {},
     "output_type": "execute_result"
    }
   ],
   "source": [
    "import re\n",
    "import numpy as np\n",
    "import torch\n",
    "import torch.nn as nn\n",
    "import torch.optim as optim\n",
    "import torch.nn.functional as F\n",
    "import random\n",
    "import nltk\n",
    "from nltk.tokenize import word_tokenize\n",
    "from nltk.stem import PorterStemmer, WordNetLemmatizer\n",
    "from nltk.corpus import stopwords\n",
    "nltk.download('punkt')\n",
    "nltk.download('wordnet')"
   ]
  },
  {
   "cell_type": "code",
   "execution_count": 2,
   "id": "4f3d725a",
   "metadata": {},
   "outputs": [
    {
     "name": "stdout",
     "output_type": "stream",
     "text": [
      "This is an example of some text. Let's prepare this by invoking a set of routines!\n",
      "An example of word embeddings would be shown at the bottom as a result of preparation.\n"
     ]
    }
   ],
   "source": [
    "raw_text = \"This is an example of some text. Let's prepare this by invoking a set of routines!\\nAn example of word embeddings would be shown at the bottom as a result of preparation.\"\n",
    "\n",
    "print(raw_text)"
   ]
  },
  {
   "cell_type": "code",
   "execution_count": 3,
   "id": "4b685660",
   "metadata": {},
   "outputs": [
    {
     "data": {
      "text/plain": [
       "\"This is an example of some text. Let's prepare this by invoking a set of routines!\\nAn example of word embeddings would be shown at the bottom as a result of preparation.\""
      ]
     },
     "execution_count": 3,
     "metadata": {},
     "output_type": "execute_result"
    }
   ],
   "source": [
    "processed_text = re.sub(r'[^\\x00-\\x7f]', r'', raw_text)\n",
    "\n",
    "processed_text"
   ]
  },
  {
   "cell_type": "code",
   "execution_count": 4,
   "id": "745e0cb3",
   "metadata": {},
   "outputs": [
    {
     "data": {
      "text/plain": [
       "\"this is an example of some text. let's prepare this by invoking a set of routines!\\nan example of word embeddings would be shown at the bottom as a result of preparation.\""
      ]
     },
     "execution_count": 4,
     "metadata": {},
     "output_type": "execute_result"
    }
   ],
   "source": [
    "lowered_text = raw_text.lower()\n",
    "\n",
    "lowered_text"
   ]
  },
  {
   "cell_type": "code",
   "execution_count": 5,
   "id": "af107f18",
   "metadata": {},
   "outputs": [
    {
     "data": {
      "text/plain": [
       "['This',\n",
       " 'is',\n",
       " 'an',\n",
       " 'example',\n",
       " 'of',\n",
       " 'some',\n",
       " 'text',\n",
       " '.',\n",
       " 'Let',\n",
       " \"'s\",\n",
       " 'prepare',\n",
       " 'this',\n",
       " 'by',\n",
       " 'invoking',\n",
       " 'a',\n",
       " 'set',\n",
       " 'of',\n",
       " 'routines',\n",
       " '!',\n",
       " 'An',\n",
       " 'example',\n",
       " 'of',\n",
       " 'word',\n",
       " 'embeddings',\n",
       " 'would',\n",
       " 'be',\n",
       " 'shown',\n",
       " 'at',\n",
       " 'the',\n",
       " 'bottom',\n",
       " 'as',\n",
       " 'a',\n",
       " 'result',\n",
       " 'of',\n",
       " 'preparation',\n",
       " '.']"
      ]
     },
     "execution_count": 5,
     "metadata": {},
     "output_type": "execute_result"
    }
   ],
   "source": [
    "word_tokens = word_tokenize(processed_text)\n",
    "\n",
    "word_tokens"
   ]
  },
  {
   "cell_type": "code",
   "execution_count": 6,
   "id": "3aebd4a5",
   "metadata": {},
   "outputs": [
    {
     "data": {
      "text/plain": [
       "['example',\n",
       " 'text',\n",
       " '.',\n",
       " 'Let',\n",
       " \"'s\",\n",
       " 'prepare',\n",
       " 'invoking',\n",
       " 'set',\n",
       " 'routines',\n",
       " '!',\n",
       " 'example',\n",
       " 'word',\n",
       " 'embeddings',\n",
       " 'would',\n",
       " 'shown',\n",
       " 'bottom',\n",
       " 'result',\n",
       " 'preparation',\n",
       " '.']"
      ]
     },
     "execution_count": 6,
     "metadata": {},
     "output_type": "execute_result"
    }
   ],
   "source": [
    "stop_words = set(stopwords.words('english'))\n",
    "filtered_tokens = [token for token in word_tokens if token.lower() not in stop_words]\n",
    "\n",
    "filtered_tokens"
   ]
  },
  {
   "cell_type": "code",
   "execution_count": 7,
   "id": "ec804570",
   "metadata": {},
   "outputs": [
    {
     "data": {
      "text/plain": [
       "['prepare',\n",
       " '!',\n",
       " 'set',\n",
       " 'text',\n",
       " \"'s\",\n",
       " 'result',\n",
       " 'word',\n",
       " 'bottom',\n",
       " 'invoking',\n",
       " 'would',\n",
       " 'routines',\n",
       " 'shown',\n",
       " 'Let',\n",
       " 'preparation',\n",
       " 'embeddings',\n",
       " 'example',\n",
       " '.']"
      ]
     },
     "execution_count": 7,
     "metadata": {},
     "output_type": "execute_result"
    }
   ],
   "source": [
    "word_vocabulary = list(set(sorted(filtered_tokens)))\n",
    "\n",
    "word_vocabulary"
   ]
  },
  {
   "cell_type": "code",
   "execution_count": 8,
   "id": "68268f10",
   "metadata": {},
   "outputs": [
    {
     "data": {
      "text/plain": [
       "['prepar',\n",
       " '!',\n",
       " 'set',\n",
       " 'text',\n",
       " \"'s\",\n",
       " 'result',\n",
       " 'word',\n",
       " 'bottom',\n",
       " 'invok',\n",
       " 'would',\n",
       " 'routin',\n",
       " 'shown',\n",
       " 'let',\n",
       " 'prepar',\n",
       " 'embed',\n",
       " 'exampl',\n",
       " '.']"
      ]
     },
     "execution_count": 8,
     "metadata": {},
     "output_type": "execute_result"
    }
   ],
   "source": [
    "stemmer = PorterStemmer()\n",
    "stemmed_tokens = [stemmer.stem(token) for token in word_vocabulary]\n",
    "\n",
    "stemmed_tokens"
   ]
  },
  {
   "cell_type": "code",
   "execution_count": 9,
   "id": "e87f71f5",
   "metadata": {},
   "outputs": [
    {
     "data": {
      "text/plain": [
       "['prepare',\n",
       " '!',\n",
       " 'set',\n",
       " 'text',\n",
       " \"'s\",\n",
       " 'result',\n",
       " 'word',\n",
       " 'bottom',\n",
       " 'invoking',\n",
       " 'would',\n",
       " 'routine',\n",
       " 'shown',\n",
       " 'Let',\n",
       " 'preparation',\n",
       " 'embeddings',\n",
       " 'example',\n",
       " '.']"
      ]
     },
     "execution_count": 9,
     "metadata": {},
     "output_type": "execute_result"
    }
   ],
   "source": [
    "lemmatizer = WordNetLemmatizer()\n",
    "lemmatized_tokens = [lemmatizer.lemmatize(token) for token in word_vocabulary]\n",
    "\n",
    "lemmatized_tokens"
   ]
  },
  {
   "cell_type": "code",
   "execution_count": 10,
   "id": "d2b0e950",
   "metadata": {},
   "outputs": [
    {
     "data": {
      "text/plain": [
       "{'prepare': 0,\n",
       " '!': 1,\n",
       " 'set': 2,\n",
       " 'text': 3,\n",
       " \"'s\": 4,\n",
       " 'result': 5,\n",
       " 'word': 6,\n",
       " 'bottom': 7,\n",
       " 'invoking': 8,\n",
       " 'would': 9,\n",
       " 'routines': 10,\n",
       " 'shown': 11,\n",
       " 'Let': 12,\n",
       " 'preparation': 13,\n",
       " 'embeddings': 14,\n",
       " 'example': 15,\n",
       " '.': 16}"
      ]
     },
     "execution_count": 10,
     "metadata": {},
     "output_type": "execute_result"
    }
   ],
   "source": [
    "word_indices = dict((word, index) for index, word in enumerate(word_vocabulary))\n",
    "\n",
    "word_indices"
   ]
  },
  {
   "cell_type": "code",
   "execution_count": 11,
   "id": "45482fa9",
   "metadata": {},
   "outputs": [
    {
     "data": {
      "text/plain": [
       "{0: 'prepare',\n",
       " 1: '!',\n",
       " 2: 'set',\n",
       " 3: 'text',\n",
       " 4: \"'s\",\n",
       " 5: 'result',\n",
       " 6: 'word',\n",
       " 7: 'bottom',\n",
       " 8: 'invoking',\n",
       " 9: 'would',\n",
       " 10: 'routines',\n",
       " 11: 'shown',\n",
       " 12: 'Let',\n",
       " 13: 'preparation',\n",
       " 14: 'embeddings',\n",
       " 15: 'example',\n",
       " 16: '.'}"
      ]
     },
     "execution_count": 11,
     "metadata": {},
     "output_type": "execute_result"
    }
   ],
   "source": [
    "indices_words = dict((index, word) for index, word in enumerate(word_vocabulary))\n",
    "\n",
    "indices_words"
   ]
  },
  {
   "cell_type": "code",
   "execution_count": null,
   "id": "a2063a09",
   "metadata": {},
   "outputs": [],
   "source": []
  }
 ],
 "metadata": {
  "kernelspec": {
   "display_name": "Python 3 (ipykernel)",
   "language": "python",
   "name": "python3"
  },
  "language_info": {
   "codemirror_mode": {
    "name": "ipython",
    "version": 3
   },
   "file_extension": ".py",
   "mimetype": "text/x-python",
   "name": "python",
   "nbconvert_exporter": "python",
   "pygments_lexer": "ipython3",
   "version": "3.10.7"
  }
 },
 "nbformat": 4,
 "nbformat_minor": 5
}
